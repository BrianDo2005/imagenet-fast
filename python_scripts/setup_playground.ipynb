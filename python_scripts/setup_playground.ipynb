{
 "cells": [
  {
   "cell_type": "code",
   "execution_count": 101,
   "metadata": {
    "collapsed": true
   },
   "outputs": [],
   "source": [
    "import argparse\n",
    "import boto3\n",
    "import paramiko\n",
    "import os, sys, time\n",
    "from pathlib import Path"
   ]
  },
  {
   "cell_type": "code",
   "execution_count": null,
   "metadata": {
    "collapsed": true
   },
   "outputs": [],
   "source": [
    "profile = [\n",
    "    'region': \n",
    "]"
   ]
  },
  {
   "cell_type": "code",
   "execution_count": 5,
   "metadata": {},
   "outputs": [],
   "source": [
    "session = boto3.Session()"
   ]
  },
  {
   "cell_type": "code",
   "execution_count": null,
   "metadata": {
    "collapsed": true
   },
   "outputs": [],
   "source": []
  },
  {
   "cell_type": "code",
   "execution_count": 170,
   "metadata": {
    "collapsed": true
   },
   "outputs": [],
   "source": [
    "ec2 = session.resource('ec2')"
   ]
  },
  {
   "cell_type": "code",
   "execution_count": 192,
   "metadata": {
    "collapsed": true
   },
   "outputs": [],
   "source": [
    "c = ec2.vpcs.filter(Filters=[{'Name': 'tag-value', 'Values': ['sdfjklsdf']}])"
   ]
  },
  {
   "cell_type": "code",
   "execution_count": 194,
   "metadata": {},
   "outputs": [],
   "source": [
    "if list(c):\n",
    "    print('sdjfklds')"
   ]
  },
  {
   "cell_type": "code",
   "execution_count": 186,
   "metadata": {},
   "outputs": [
    {
     "ename": "TypeError",
     "evalue": "'ec2.vpcsCollection' object does not support indexing",
     "output_type": "error",
     "traceback": [
      "\u001b[0;31m---------------------------------------------------------------------------\u001b[0m",
      "\u001b[0;31mTypeError\u001b[0m                                 Traceback (most recent call last)",
      "\u001b[0;32m<ipython-input-186-a114673382cc>\u001b[0m in \u001b[0;36m<module>\u001b[0;34m()\u001b[0m\n\u001b[0;32m----> 1\u001b[0;31m \u001b[0mec2\u001b[0m\u001b[0;34m.\u001b[0m\u001b[0mvpcs\u001b[0m\u001b[0;34m.\u001b[0m\u001b[0mfilter\u001b[0m\u001b[0;34m(\u001b[0m\u001b[0mFilters\u001b[0m\u001b[0;34m=\u001b[0m\u001b[0;34m[\u001b[0m\u001b[0;34m{\u001b[0m\u001b[0;34m'Name'\u001b[0m\u001b[0;34m:\u001b[0m \u001b[0;34m'tag-value'\u001b[0m\u001b[0;34m,\u001b[0m \u001b[0;34m'Values'\u001b[0m\u001b[0;34m:\u001b[0m \u001b[0;34m[\u001b[0m\u001b[0mname\u001b[0m\u001b[0;34m]\u001b[0m\u001b[0;34m}\u001b[0m\u001b[0;34m]\u001b[0m\u001b[0;34m)\u001b[0m\u001b[0;34m[\u001b[0m\u001b[0;36m0\u001b[0m\u001b[0;34m]\u001b[0m\u001b[0;34m.\u001b[0m\u001b[0mid\u001b[0m\u001b[0;34m\u001b[0m\u001b[0m\n\u001b[0m",
      "\u001b[0;31mTypeError\u001b[0m: 'ec2.vpcsCollection' object does not support indexing"
     ]
    }
   ],
   "source": [
    "list(ec2.vpcs.filter(Filters=[{'Name': 'tag-value', 'Values': [name]}]))[0].id"
   ]
  },
  {
   "cell_type": "code",
   "execution_count": 182,
   "metadata": {},
   "outputs": [
    {
     "data": {
      "text/plain": [
       "[ec2.Vpc(id='vpc-6e6b2a17'),\n",
       " ec2.Vpc(id='vpc-bc7e3fc5'),\n",
       " ec2.Vpc(id='vpc-56b0f02f')]"
      ]
     },
     "execution_count": 182,
     "metadata": {},
     "output_type": "execute_result"
    }
   ],
   "source": [
    "list(ec2.vpcs.all())"
   ]
  },
  {
   "cell_type": "code",
   "execution_count": 173,
   "metadata": {},
   "outputs": [
    {
     "ename": "TypeError",
     "evalue": "'ec2.vpcsCollectionManager' object is not callable",
     "output_type": "error",
     "traceback": [
      "\u001b[0;31m---------------------------------------------------------------------------\u001b[0m",
      "\u001b[0;31mTypeError\u001b[0m                                 Traceback (most recent call last)",
      "\u001b[0;32m<ipython-input-173-98980199814d>\u001b[0m in \u001b[0;36m<module>\u001b[0;34m()\u001b[0m\n\u001b[0;32m----> 1\u001b[0;31m \u001b[0mec2\u001b[0m\u001b[0;34m.\u001b[0m\u001b[0mvpcs\u001b[0m\u001b[0;34m(\u001b[0m\u001b[0mFilters\u001b[0m\u001b[0;34m=\u001b[0m\u001b[0;34m[\u001b[0m\u001b[0;34m{\u001b[0m\u001b[0;34m'Name'\u001b[0m\u001b[0;34m:\u001b[0m \u001b[0;34m'tag-value'\u001b[0m\u001b[0;34m,\u001b[0m \u001b[0;34m'Values'\u001b[0m\u001b[0;34m:\u001b[0m \u001b[0;34m[\u001b[0m\u001b[0mname\u001b[0m\u001b[0;34m]\u001b[0m\u001b[0;34m}\u001b[0m\u001b[0;34m]\u001b[0m\u001b[0;34m)\u001b[0m\u001b[0;34m\u001b[0m\u001b[0m\n\u001b[0m",
      "\u001b[0;31mTypeError\u001b[0m: 'ec2.vpcsCollectionManager' object is not callable"
     ]
    }
   ],
   "source": [
    "ec2.vpcs(Filters=[{'Name': 'tag-value', 'Values': [name]}])"
   ]
  },
  {
   "cell_type": "code",
   "execution_count": 7,
   "metadata": {},
   "outputs": [],
   "source": [
    "ec2_client = session.client('ec2')"
   ]
  },
  {
   "cell_type": "code",
   "execution_count": 39,
   "metadata": {},
   "outputs": [
    {
     "data": {
      "text/plain": [
       "{'ResponseMetadata': {'HTTPHeaders': {'content-type': 'text/xml;charset=UTF-8',\n",
       "   'date': 'Wed, 28 Mar 2018 08:38:27 GMT',\n",
       "   'server': 'AmazonEC2',\n",
       "   'transfer-encoding': 'chunked',\n",
       "   'vary': 'Accept-Encoding'},\n",
       "  'HTTPStatusCode': 200,\n",
       "  'RequestId': 'acf17ac6-1d70-4313-b783-c0146c637c92',\n",
       "  'RetryAttempts': 0},\n",
       " 'SecurityGroups': [{'Description': 'default group',\n",
       "   'GroupId': 'sg-0b31743b',\n",
       "   'GroupName': 'default',\n",
       "   'IpPermissions': [{'FromPort': 0,\n",
       "     'IpProtocol': 'tcp',\n",
       "     'IpRanges': [],\n",
       "     'Ipv6Ranges': [],\n",
       "     'PrefixListIds': [],\n",
       "     'ToPort': 65535,\n",
       "     'UserIdGroupPairs': [{'GroupId': 'sg-0b31743b',\n",
       "       'GroupName': 'default',\n",
       "       'UserId': '698042698196'}]},\n",
       "    {'FromPort': 0,\n",
       "     'IpProtocol': 'udp',\n",
       "     'IpRanges': [],\n",
       "     'Ipv6Ranges': [],\n",
       "     'PrefixListIds': [],\n",
       "     'ToPort': 65535,\n",
       "     'UserIdGroupPairs': [{'GroupId': 'sg-0b31743b',\n",
       "       'GroupName': 'default',\n",
       "       'UserId': '698042698196'}]},\n",
       "    {'FromPort': -1,\n",
       "     'IpProtocol': 'icmp',\n",
       "     'IpRanges': [],\n",
       "     'Ipv6Ranges': [],\n",
       "     'PrefixListIds': [],\n",
       "     'ToPort': -1,\n",
       "     'UserIdGroupPairs': [{'GroupId': 'sg-0b31743b',\n",
       "       'GroupName': 'default',\n",
       "       'UserId': '698042698196'}]},\n",
       "    {'FromPort': 22,\n",
       "     'IpProtocol': 'tcp',\n",
       "     'IpRanges': [{'CidrIp': '0.0.0.0/0'}],\n",
       "     'Ipv6Ranges': [],\n",
       "     'PrefixListIds': [],\n",
       "     'ToPort': 22,\n",
       "     'UserIdGroupPairs': []},\n",
       "    {'FromPort': 25,\n",
       "     'IpProtocol': 'tcp',\n",
       "     'IpRanges': [{'CidrIp': '0.0.0.0/0'}],\n",
       "     'Ipv6Ranges': [],\n",
       "     'PrefixListIds': [],\n",
       "     'ToPort': 25,\n",
       "     'UserIdGroupPairs': []},\n",
       "    {'FromPort': 80,\n",
       "     'IpProtocol': 'tcp',\n",
       "     'IpRanges': [{'CidrIp': '0.0.0.0/0'}],\n",
       "     'Ipv6Ranges': [],\n",
       "     'PrefixListIds': [],\n",
       "     'ToPort': 80,\n",
       "     'UserIdGroupPairs': []},\n",
       "    {'FromPort': 110,\n",
       "     'IpProtocol': 'tcp',\n",
       "     'IpRanges': [{'CidrIp': '0.0.0.0/0'}],\n",
       "     'Ipv6Ranges': [],\n",
       "     'PrefixListIds': [],\n",
       "     'ToPort': 110,\n",
       "     'UserIdGroupPairs': []},\n",
       "    {'FromPort': 443,\n",
       "     'IpProtocol': 'tcp',\n",
       "     'IpRanges': [{'CidrIp': '0.0.0.0/0'}],\n",
       "     'Ipv6Ranges': [],\n",
       "     'PrefixListIds': [],\n",
       "     'ToPort': 443,\n",
       "     'UserIdGroupPairs': []},\n",
       "    {'FromPort': 3306,\n",
       "     'IpProtocol': 'tcp',\n",
       "     'IpRanges': [{'CidrIp': '0.0.0.0/0'}],\n",
       "     'Ipv6Ranges': [],\n",
       "     'PrefixListIds': [],\n",
       "     'ToPort': 3306,\n",
       "     'UserIdGroupPairs': []},\n",
       "    {'FromPort': 8512,\n",
       "     'IpProtocol': 'tcp',\n",
       "     'IpRanges': [{'CidrIp': '0.0.0.0/0'}],\n",
       "     'Ipv6Ranges': [],\n",
       "     'PrefixListIds': [],\n",
       "     'ToPort': 8512,\n",
       "     'UserIdGroupPairs': []},\n",
       "    {'FromPort': 53,\n",
       "     'IpProtocol': 'udp',\n",
       "     'IpRanges': [{'CidrIp': '0.0.0.0/0'}],\n",
       "     'Ipv6Ranges': [],\n",
       "     'PrefixListIds': [],\n",
       "     'ToPort': 53,\n",
       "     'UserIdGroupPairs': []},\n",
       "    {'FromPort': 8512,\n",
       "     'IpProtocol': 'udp',\n",
       "     'IpRanges': [{'CidrIp': '0.0.0.0/0'}],\n",
       "     'Ipv6Ranges': [],\n",
       "     'PrefixListIds': [],\n",
       "     'ToPort': 8512,\n",
       "     'UserIdGroupPairs': []}],\n",
       "   'IpPermissionsEgress': [],\n",
       "   'OwnerId': '698042698196'},\n",
       "  {'Description': 'More permissions',\n",
       "   'GroupId': 'sg-ab84c69b',\n",
       "   'GroupName': 'AndrewDefault',\n",
       "   'IpPermissions': [{'FromPort': 22,\n",
       "     'IpProtocol': 'tcp',\n",
       "     'IpRanges': [{'CidrIp': '0.0.0.0/0'}],\n",
       "     'Ipv6Ranges': [],\n",
       "     'PrefixListIds': [],\n",
       "     'ToPort': 22,\n",
       "     'UserIdGroupPairs': []},\n",
       "    {'FromPort': 80,\n",
       "     'IpProtocol': 'tcp',\n",
       "     'IpRanges': [{'CidrIp': '0.0.0.0/0'}],\n",
       "     'Ipv6Ranges': [],\n",
       "     'PrefixListIds': [],\n",
       "     'ToPort': 80,\n",
       "     'UserIdGroupPairs': []},\n",
       "    {'FromPort': 443,\n",
       "     'IpProtocol': 'tcp',\n",
       "     'IpRanges': [{'CidrIp': '0.0.0.0/0'}],\n",
       "     'Ipv6Ranges': [],\n",
       "     'PrefixListIds': [],\n",
       "     'ToPort': 443,\n",
       "     'UserIdGroupPairs': []},\n",
       "    {'FromPort': 995,\n",
       "     'IpProtocol': 'tcp',\n",
       "     'IpRanges': [{'CidrIp': '0.0.0.0/0'}],\n",
       "     'Ipv6Ranges': [],\n",
       "     'PrefixListIds': [],\n",
       "     'ToPort': 995,\n",
       "     'UserIdGroupPairs': []},\n",
       "    {'FromPort': 3306,\n",
       "     'IpProtocol': 'tcp',\n",
       "     'IpRanges': [{'CidrIp': '0.0.0.0/0'}],\n",
       "     'Ipv6Ranges': [],\n",
       "     'PrefixListIds': [],\n",
       "     'ToPort': 3306,\n",
       "     'UserIdGroupPairs': []}],\n",
       "   'IpPermissionsEgress': [],\n",
       "   'OwnerId': '698042698196'},\n",
       "  {'Description': 'SG for fast.ai machine',\n",
       "   'GroupId': 'sg-3f488d41',\n",
       "   'GroupName': 'test-vpc-security-group',\n",
       "   'IpPermissions': [{'FromPort': 8888,\n",
       "     'IpProtocol': 'tcp',\n",
       "     'IpRanges': [{'CidrIp': '0.0.0.0/0'}],\n",
       "     'Ipv6Ranges': [],\n",
       "     'PrefixListIds': [],\n",
       "     'ToPort': 8898,\n",
       "     'UserIdGroupPairs': []},\n",
       "    {'FromPort': 22,\n",
       "     'IpProtocol': 'tcp',\n",
       "     'IpRanges': [{'CidrIp': '0.0.0.0/0'}],\n",
       "     'Ipv6Ranges': [],\n",
       "     'PrefixListIds': [],\n",
       "     'ToPort': 22,\n",
       "     'UserIdGroupPairs': []}],\n",
       "   'IpPermissionsEgress': [{'IpProtocol': '-1',\n",
       "     'IpRanges': [{'CidrIp': '0.0.0.0/0'}],\n",
       "     'Ipv6Ranges': [],\n",
       "     'PrefixListIds': [],\n",
       "     'UserIdGroupPairs': []}],\n",
       "   'OwnerId': '698042698196',\n",
       "   'VpcId': 'vpc-bc7e3fc5'},\n",
       "  {'Description': 'default VPC security group',\n",
       "   'GroupId': 'sg-4f02c731',\n",
       "   'GroupName': 'default',\n",
       "   'IpPermissions': [{'IpProtocol': '-1',\n",
       "     'IpRanges': [],\n",
       "     'Ipv6Ranges': [],\n",
       "     'PrefixListIds': [],\n",
       "     'UserIdGroupPairs': [{'GroupId': 'sg-4f02c731',\n",
       "       'UserId': '698042698196'}]}],\n",
       "   'IpPermissionsEgress': [{'IpProtocol': '-1',\n",
       "     'IpRanges': [{'CidrIp': '0.0.0.0/0'}],\n",
       "     'Ipv6Ranges': [],\n",
       "     'PrefixListIds': [],\n",
       "     'UserIdGroupPairs': []}],\n",
       "   'OwnerId': '698042698196',\n",
       "   'VpcId': 'vpc-6e6b2a17'},\n",
       "  {'Description': 'default VPC security group',\n",
       "   'GroupId': 'sg-cc4f8ab2',\n",
       "   'GroupName': 'default',\n",
       "   'IpPermissions': [{'IpProtocol': '-1',\n",
       "     'IpRanges': [],\n",
       "     'Ipv6Ranges': [],\n",
       "     'PrefixListIds': [],\n",
       "     'UserIdGroupPairs': [{'GroupId': 'sg-cc4f8ab2',\n",
       "       'UserId': '698042698196'}]}],\n",
       "   'IpPermissionsEgress': [{'IpProtocol': '-1',\n",
       "     'IpRanges': [{'CidrIp': '0.0.0.0/0'}],\n",
       "     'Ipv6Ranges': [],\n",
       "     'PrefixListIds': [],\n",
       "     'UserIdGroupPairs': []}],\n",
       "   'OwnerId': '698042698196',\n",
       "   'VpcId': 'vpc-bc7e3fc5'},\n",
       "  {'Description': 'SG for fast.ai machine',\n",
       "   'GroupId': 'sg-f60fca88',\n",
       "   'GroupName': 'fast-ai-security-group',\n",
       "   'IpPermissions': [{'FromPort': 8888,\n",
       "     'IpProtocol': 'tcp',\n",
       "     'IpRanges': [{'CidrIp': '0.0.0.0/0'}],\n",
       "     'Ipv6Ranges': [],\n",
       "     'PrefixListIds': [],\n",
       "     'ToPort': 8898,\n",
       "     'UserIdGroupPairs': []},\n",
       "    {'FromPort': 22,\n",
       "     'IpProtocol': 'tcp',\n",
       "     'IpRanges': [{'CidrIp': '0.0.0.0/0'}],\n",
       "     'Ipv6Ranges': [],\n",
       "     'PrefixListIds': [],\n",
       "     'ToPort': 22,\n",
       "     'UserIdGroupPairs': []}],\n",
       "   'IpPermissionsEgress': [{'IpProtocol': '-1',\n",
       "     'IpRanges': [{'CidrIp': '0.0.0.0/0'}],\n",
       "     'Ipv6Ranges': [],\n",
       "     'PrefixListIds': [],\n",
       "     'UserIdGroupPairs': []}],\n",
       "   'OwnerId': '698042698196',\n",
       "   'VpcId': 'vpc-6e6b2a17'}]}"
      ]
     },
     "execution_count": 39,
     "metadata": {},
     "output_type": "execute_result"
    }
   ],
   "source": [
    "ec2_client.describe_security_groups()"
   ]
  },
  {
   "cell_type": "code",
   "execution_count": null,
   "metadata": {
    "collapsed": true
   },
   "outputs": [],
   "source": [
    "def get_vpc(name):\n",
    "    vpcs = list(ec2.vpcs.filter(Filters=[{'Name': 'tag-value', 'Values': [name]}]))\n",
    "    if vpcs:\n",
    "        return vpcs[0].id\n",
    "    print('Vpc')\n",
    "    vpc_req = ec2_client.describe_vpcs(Filters=[{'Name': 'tag-value', 'Values': [name]}])\n",
    "    try:\n",
    "        vpc_id = vpc_req['Vpcs'][0]['VpcId']\n",
    "    except (KeyError, IndexError):\n",
    "        return None\n",
    "    return vpc_id"
   ]
  },
  {
   "cell_type": "code",
   "execution_count": 37,
   "metadata": {},
   "outputs": [],
   "source": [
    "def get_vpc(name):\n",
    "    vpc_req = ec2_client.describe_vpcs(Filters=[{'Name': 'tag-value', 'Values': [name]}])\n",
    "    try:\n",
    "        vpc_id = vpc_req['Vpcs'][0]['VpcId']\n",
    "    except (KeyError, IndexError):\n",
    "        return None\n",
    "    return vpc_id"
   ]
  },
  {
   "cell_type": "code",
   "execution_count": 60,
   "metadata": {
    "collapsed": true
   },
   "outputs": [],
   "source": [
    "def get_security_group(name, vpc_id):\n",
    "    sg_tag = f'{name}-security-group'\n",
    "    filters = [{'Name': 'group-name', 'Values': [sg_tag]}, {'Name': 'vpc-id', 'Values': [vpc_id]}]\n",
    "    sg_req = ec2_client.describe_security_groups(Filters=filters)\n",
    "    try:\n",
    "        sg_id = sg_req['SecurityGroups'][0]['GroupId']\n",
    "    except (KeyError, IndexError):\n",
    "        return None\n",
    "    return sg_id"
   ]
  },
  {
   "cell_type": "code",
   "execution_count": 90,
   "metadata": {
    "collapsed": true
   },
   "outputs": [],
   "source": [
    "def get_subnet(name, vpc_id):\n",
    "    subnet_tag = f'{name}-subnet'\n",
    "    filters = [{'Name': 'tag-value', 'Values': [subnet_tag]}, {'Name': 'vpc-id', 'Values': [vpc_id]}]\n",
    "    subnet_req = ec2_client.describe_subnets(Filters=filters)\n",
    "    try:\n",
    "        subnet_id = subnet_req['Subnets'][0]['SubnetId']\n",
    "    except (KeyError, IndexError):\n",
    "        return None\n",
    "    return subnet_id"
   ]
  },
  {
   "cell_type": "code",
   "execution_count": 95,
   "metadata": {
    "collapsed": true
   },
   "outputs": [],
   "source": [
    "def get_all_vpc(name):\n",
    "    vpc_id = get_vpc(name)\n",
    "    sg_id = get_security_group(name, vpc_id)\n",
    "    subnet_id = get_subnet(name, vpc_id)\n",
    "    return vpc_id, sg_id, subnet_id"
   ]
  },
  {
   "cell_type": "code",
   "execution_count": 97,
   "metadata": {
    "collapsed": true
   },
   "outputs": [],
   "source": [
    "name='fast-ai'"
   ]
  },
  {
   "cell_type": "code",
   "execution_count": 98,
   "metadata": {},
   "outputs": [
    {
     "data": {
      "text/plain": [
       "('vpc-6e6b2a17', 'sg-f60fca88', 'subnet-f056ff89')"
      ]
     },
     "execution_count": 98,
     "metadata": {},
     "output_type": "execute_result"
    }
   ],
   "source": [
    "get_all_vpc(name)"
   ]
  },
  {
   "cell_type": "markdown",
   "metadata": {},
   "source": [
    "### Creating a vpc"
   ]
  },
  {
   "cell_type": "code",
   "execution_count": 106,
   "metadata": {},
   "outputs": [],
   "source": [
    "a = Path.home()"
   ]
  },
  {
   "cell_type": "code",
   "execution_count": 107,
   "metadata": {},
   "outputs": [
    {
     "data": {
      "text/plain": [
       "PosixPath('/Users/andrewshaw')"
      ]
     },
     "execution_count": 107,
     "metadata": {},
     "output_type": "execute_result"
    }
   ],
   "source": []
  },
  {
   "cell_type": "code",
   "execution_count": 108,
   "metadata": {
    "collapsed": true
   },
   "outputs": [],
   "source": []
  },
  {
   "cell_type": "code",
   "execution_count": 140,
   "metadata": {},
   "outputs": [],
   "source": [
    "def create_ec2_keypair(name):\n",
    "    ssh_dir = Path.home()/'.ssh'\n",
    "    (ssh_dir).mkdir(exist_ok=True)\n",
    "    keypair_name = f'aws-key-{name}'\n",
    "    filename = ssh_dir/f'{keypair_name}.pem'\n",
    "    if filename.exists():\n",
    "        print('Keypair exists')\n",
    "        return\n",
    "    keypair = ec2_client.create_key_pair(KeyName=keypair_name)\n",
    "    keypair_out = str(keypair['KeyMaterial'])\n",
    "    outfile = open(filename,'w')\n",
    "    outfile.write(keypair_out)\n",
    "    os.chmod(filename, 0o400)\n",
    "    print('Created keypair')"
   ]
  },
  {
   "cell_type": "code",
   "execution_count": 138,
   "metadata": {},
   "outputs": [
    {
     "name": "stdout",
     "output_type": "stream",
     "text": [
      "Created keypair\n"
     ]
    }
   ],
   "source": [
    "# create_ec2_keypair('test-fast')"
   ]
  },
  {
   "cell_type": "code",
   "execution_count": null,
   "metadata": {
    "collapsed": true
   },
   "outputs": [],
   "source": [
    "def create_security_group(name, vpc_id):\n",
    "    cidr = '0.0.0.0/0'\n",
    "    sg = ec2_client.create_security_group(GroupName=f'{name}-security-group-test', VpcId=vpc_id, Description='SG for {name} machine')\n",
    "    sg_id = sg['GroupId']\n",
    "    # ssh\n",
    "    ec2_client.authorize_security_group_ingress(GroupId=sg_id, IpProtocol='tcp', FromPort=22, ToPort=22, CidrIp=cidr)\n",
    "    # jupyter notebook\n",
    "    ec2_client.authorize_security_group_ingress(GroupId=sg_id, IpProtocol='tcp', FromPort=8888, ToPort=8898, CidrIp=cidr)\n",
    "    return sg_id"
   ]
  },
  {
   "cell_type": "code",
   "execution_count": 157,
   "metadata": {},
   "outputs": [],
   "source": [
    "cidr_block='10.0.0.0/28'\n",
    "vpc = ec2_client.create_vpc(CidrBlock=cidr_block)\n"
   ]
  },
  {
   "cell_type": "code",
   "execution_count": 160,
   "metadata": {},
   "outputs": [
    {
     "data": {
      "text/plain": [
       "{'ResponseMetadata': {'HTTPHeaders': {'content-length': '865',\n",
       "   'content-type': 'text/xml;charset=UTF-8',\n",
       "   'date': 'Wed, 28 Mar 2018 18:23:05 GMT',\n",
       "   'server': 'AmazonEC2'},\n",
       "  'HTTPStatusCode': 200,\n",
       "  'RequestId': '60465ff2-7296-4aa2-9150-86d24569ebb8',\n",
       "  'RetryAttempts': 0},\n",
       " 'Vpc': {'CidrBlock': '10.0.0.0/28',\n",
       "  'CidrBlockAssociationSet': [{'AssociationId': 'vpc-cidr-assoc-90bcb7fb',\n",
       "    'CidrBlock': '10.0.0.0/28',\n",
       "    'CidrBlockState': {'State': 'associated'}}],\n",
       "  'DhcpOptionsId': 'dopt-42213a25',\n",
       "  'InstanceTenancy': 'default',\n",
       "  'Ipv6CidrBlockAssociationSet': [],\n",
       "  'IsDefault': False,\n",
       "  'State': 'pending',\n",
       "  'Tags': [],\n",
       "  'VpcId': 'vpc-56b0f02f'}}"
      ]
     },
     "execution_count": 160,
     "metadata": {},
     "output_type": "execute_result"
    }
   ],
   "source": [
    "vpc"
   ]
  },
  {
   "cell_type": "code",
   "execution_count": 164,
   "metadata": {},
   "outputs": [],
   "source": [
    "vpc_id = vpc['Vpc']['VpcId']"
   ]
  },
  {
   "cell_type": "code",
   "execution_count": 166,
   "metadata": {},
   "outputs": [
    {
     "ename": "TypeError",
     "evalue": "modify_vpc_attribute() only accepts keyword arguments.",
     "output_type": "error",
     "traceback": [
      "\u001b[0;31m---------------------------------------------------------------------------\u001b[0m",
      "\u001b[0;31mTypeError\u001b[0m                                 Traceback (most recent call last)",
      "\u001b[0;32m<ipython-input-166-dc618d7914c9>\u001b[0m in \u001b[0;36m<module>\u001b[0;34m()\u001b[0m\n\u001b[1;32m      1\u001b[0m \u001b[0;34m\u001b[0m\u001b[0m\n\u001b[1;32m      2\u001b[0m \u001b[0;31m# Configure the VPC to support DNS resolution and hostname assignment\u001b[0m\u001b[0;34m\u001b[0m\u001b[0;34m\u001b[0m\u001b[0m\n\u001b[0;32m----> 3\u001b[0;31m \u001b[0mec2_client\u001b[0m\u001b[0;34m.\u001b[0m\u001b[0mmodify_vpc_attribute\u001b[0m\u001b[0;34m(\u001b[0m\u001b[0mvpc_id\u001b[0m\u001b[0;34m,\u001b[0m \u001b[0menable_dns_support\u001b[0m\u001b[0;34m=\u001b[0m\u001b[0;32mTrue\u001b[0m\u001b[0;34m)\u001b[0m\u001b[0;34m\u001b[0m\u001b[0m\n\u001b[0m\u001b[1;32m      4\u001b[0m \u001b[0mec2_client\u001b[0m\u001b[0;34m.\u001b[0m\u001b[0mmodify_vpc_attribute\u001b[0m\u001b[0;34m(\u001b[0m\u001b[0mvpc_id\u001b[0m\u001b[0;34m,\u001b[0m \u001b[0menable_dns_hostnames\u001b[0m\u001b[0;34m=\u001b[0m\u001b[0;32mTrue\u001b[0m\u001b[0;34m)\u001b[0m\u001b[0;34m\u001b[0m\u001b[0m\n",
      "\u001b[0;32m~/.local/lib/python3.6/site-packages/botocore/client.py\u001b[0m in \u001b[0;36m_api_call\u001b[0;34m(self, *args, **kwargs)\u001b[0m\n\u001b[1;32m    310\u001b[0m             \u001b[0;32mif\u001b[0m \u001b[0margs\u001b[0m\u001b[0;34m:\u001b[0m\u001b[0;34m\u001b[0m\u001b[0m\n\u001b[1;32m    311\u001b[0m                 raise TypeError(\n\u001b[0;32m--> 312\u001b[0;31m                     \"%s() only accepts keyword arguments.\" % py_operation_name)\n\u001b[0m\u001b[1;32m    313\u001b[0m             \u001b[0;31m# The \"self\" in this scope is referring to the BaseClient.\u001b[0m\u001b[0;34m\u001b[0m\u001b[0;34m\u001b[0m\u001b[0m\n\u001b[1;32m    314\u001b[0m             \u001b[0;32mreturn\u001b[0m \u001b[0mself\u001b[0m\u001b[0;34m.\u001b[0m\u001b[0m_make_api_call\u001b[0m\u001b[0;34m(\u001b[0m\u001b[0moperation_name\u001b[0m\u001b[0;34m,\u001b[0m \u001b[0mkwargs\u001b[0m\u001b[0;34m)\u001b[0m\u001b[0;34m\u001b[0m\u001b[0m\n",
      "\u001b[0;31mTypeError\u001b[0m: modify_vpc_attribute() only accepts keyword arguments."
     ]
    }
   ],
   "source": [
    "\n",
    "# Configure the VPC to support DNS resolution and hostname assignment\n",
    "ec2_client.modify_vpc_attribute(vpc_id, enable_dns_support=True)\n",
    "ec2_client.modify_vpc_attribute(vpc_id, enable_dns_hostnames=True)"
   ]
  },
  {
   "cell_type": "code",
   "execution_count": 165,
   "metadata": {},
   "outputs": [
    {
     "ename": "ParamValidationError",
     "evalue": "Parameter validation failed:\nInvalid type for parameter EnableDnsSupport, value: True, type: <class 'bool'>, valid types: <class 'dict'>",
     "output_type": "error",
     "traceback": [
      "\u001b[0;31m---------------------------------------------------------------------------\u001b[0m",
      "\u001b[0;31mParamValidationError\u001b[0m                      Traceback (most recent call last)",
      "\u001b[0;32m<ipython-input-165-bd830f04b528>\u001b[0m in \u001b[0;36m<module>\u001b[0;34m()\u001b[0m\n\u001b[0;32m----> 1\u001b[0;31m \u001b[0mec2_client\u001b[0m\u001b[0;34m.\u001b[0m\u001b[0mmodify_vpc_attribute\u001b[0m\u001b[0;34m(\u001b[0m\u001b[0mVpcId\u001b[0m\u001b[0;34m=\u001b[0m\u001b[0mvpc_id\u001b[0m\u001b[0;34m,\u001b[0m \u001b[0mEnableDnsSupport\u001b[0m\u001b[0;34m=\u001b[0m\u001b[0;32mTrue\u001b[0m\u001b[0;34m)\u001b[0m\u001b[0;34m\u001b[0m\u001b[0m\n\u001b[0m",
      "\u001b[0;32m~/.local/lib/python3.6/site-packages/botocore/client.py\u001b[0m in \u001b[0;36m_api_call\u001b[0;34m(self, *args, **kwargs)\u001b[0m\n\u001b[1;32m    312\u001b[0m                     \"%s() only accepts keyword arguments.\" % py_operation_name)\n\u001b[1;32m    313\u001b[0m             \u001b[0;31m# The \"self\" in this scope is referring to the BaseClient.\u001b[0m\u001b[0;34m\u001b[0m\u001b[0;34m\u001b[0m\u001b[0m\n\u001b[0;32m--> 314\u001b[0;31m             \u001b[0;32mreturn\u001b[0m \u001b[0mself\u001b[0m\u001b[0;34m.\u001b[0m\u001b[0m_make_api_call\u001b[0m\u001b[0;34m(\u001b[0m\u001b[0moperation_name\u001b[0m\u001b[0;34m,\u001b[0m \u001b[0mkwargs\u001b[0m\u001b[0;34m)\u001b[0m\u001b[0;34m\u001b[0m\u001b[0m\n\u001b[0m\u001b[1;32m    315\u001b[0m \u001b[0;34m\u001b[0m\u001b[0m\n\u001b[1;32m    316\u001b[0m         \u001b[0m_api_call\u001b[0m\u001b[0;34m.\u001b[0m\u001b[0m__name__\u001b[0m \u001b[0;34m=\u001b[0m \u001b[0mstr\u001b[0m\u001b[0;34m(\u001b[0m\u001b[0mpy_operation_name\u001b[0m\u001b[0;34m)\u001b[0m\u001b[0;34m\u001b[0m\u001b[0m\n",
      "\u001b[0;32m~/.local/lib/python3.6/site-packages/botocore/client.py\u001b[0m in \u001b[0;36m_make_api_call\u001b[0;34m(self, operation_name, api_params)\u001b[0m\n\u001b[1;32m    584\u001b[0m         }\n\u001b[1;32m    585\u001b[0m         request_dict = self._convert_to_request_dict(\n\u001b[0;32m--> 586\u001b[0;31m             api_params, operation_model, context=request_context)\n\u001b[0m\u001b[1;32m    587\u001b[0m \u001b[0;34m\u001b[0m\u001b[0m\n\u001b[1;32m    588\u001b[0m         handler, event_response = self.meta.events.emit_until_response(\n",
      "\u001b[0;32m~/.local/lib/python3.6/site-packages/botocore/client.py\u001b[0m in \u001b[0;36m_convert_to_request_dict\u001b[0;34m(self, api_params, operation_model, context)\u001b[0m\n\u001b[1;32m    619\u001b[0m             api_params, operation_model, context)\n\u001b[1;32m    620\u001b[0m         request_dict = self._serializer.serialize_to_request(\n\u001b[0;32m--> 621\u001b[0;31m             api_params, operation_model)\n\u001b[0m\u001b[1;32m    622\u001b[0m         prepare_request_dict(request_dict, endpoint_url=self._endpoint.host,\n\u001b[1;32m    623\u001b[0m                              \u001b[0muser_agent\u001b[0m\u001b[0;34m=\u001b[0m\u001b[0mself\u001b[0m\u001b[0;34m.\u001b[0m\u001b[0m_client_config\u001b[0m\u001b[0;34m.\u001b[0m\u001b[0muser_agent\u001b[0m\u001b[0;34m,\u001b[0m\u001b[0;34m\u001b[0m\u001b[0m\n",
      "\u001b[0;32m~/.local/lib/python3.6/site-packages/botocore/validate.py\u001b[0m in \u001b[0;36mserialize_to_request\u001b[0;34m(self, parameters, operation_model)\u001b[0m\n\u001b[1;32m    289\u001b[0m                                                     operation_model.input_shape)\n\u001b[1;32m    290\u001b[0m             \u001b[0;32mif\u001b[0m \u001b[0mreport\u001b[0m\u001b[0;34m.\u001b[0m\u001b[0mhas_errors\u001b[0m\u001b[0;34m(\u001b[0m\u001b[0;34m)\u001b[0m\u001b[0;34m:\u001b[0m\u001b[0;34m\u001b[0m\u001b[0m\n\u001b[0;32m--> 291\u001b[0;31m                 \u001b[0;32mraise\u001b[0m \u001b[0mParamValidationError\u001b[0m\u001b[0;34m(\u001b[0m\u001b[0mreport\u001b[0m\u001b[0;34m=\u001b[0m\u001b[0mreport\u001b[0m\u001b[0;34m.\u001b[0m\u001b[0mgenerate_report\u001b[0m\u001b[0;34m(\u001b[0m\u001b[0;34m)\u001b[0m\u001b[0;34m)\u001b[0m\u001b[0;34m\u001b[0m\u001b[0m\n\u001b[0m\u001b[1;32m    292\u001b[0m         return self._serializer.serialize_to_request(parameters,\n\u001b[1;32m    293\u001b[0m                                                      operation_model)\n",
      "\u001b[0;31mParamValidationError\u001b[0m: Parameter validation failed:\nInvalid type for parameter EnableDnsSupport, value: True, type: <class 'bool'>, valid types: <class 'dict'>"
     ]
    }
   ],
   "source": [
    "ec2_client.modify_vpc_attribute(VpcId=vpc_id, EnableDnsSupport=True)"
   ]
  },
  {
   "cell_type": "code",
   "execution_count": null,
   "metadata": {
    "collapsed": true
   },
   "outputs": [],
   "source": [
    "\n",
    "export vpcId=$(aws ec2 create-vpc --cidr-block 10.0.0.0/28 --query 'Vpc.VpcId' --output text)\n",
    "aws ec2 create-tags --resources $vpcId --tags --tags Key=Name,Value=$name\n",
    "aws ec2 modify-vpc-attribute --vpc-id $vpcId --enable-dns-support \"{\\\"Value\\\":true}\"\n",
    "aws ec2 modify-vpc-attribute --vpc-id $vpcId --enable-dns-hostnames \"{\\\"Value\\\":true}\""
   ]
  },
  {
   "cell_type": "code",
   "execution_count": null,
   "metadata": {
    "collapsed": true
   },
   "outputs": [],
   "source": [
    "#!/bin/bash\n",
    "\n",
    "# settings\n",
    "export name=\"fast-ai\"\n",
    "\n",
    "export cidr=\"0.0.0.0/0\"\n",
    "export vpcTag=$name\n",
    "export sgTag=\"SG for fast.ai machine\"\n",
    "export subnetTag=\"$name-subnet\"\n",
    "\n",
    "hash aws 2>/dev/null\n",
    "if [ $? -ne 0 ]; then\n",
    "    echo >&2 \"'aws' command line tool required, but not installed.  Aborting.\"\n",
    "    exit 1\n",
    "fi\n",
    "\n",
    "if [ -z \"$(aws configure get aws_access_key_id)\" ]; then\n",
    "    echo \"AWS credentials not configured.  Aborting\"\n",
    "    exit 1\n",
    "fi\n",
    "\n",
    "export vpcId=$(aws ec2 create-vpc --cidr-block 10.0.0.0/28 --query 'Vpc.VpcId' --output text)\n",
    "aws ec2 create-tags --resources $vpcId --tags --tags Key=Name,Value=$name\n",
    "aws ec2 modify-vpc-attribute --vpc-id $vpcId --enable-dns-support \"{\\\"Value\\\":true}\"\n",
    "aws ec2 modify-vpc-attribute --vpc-id $vpcId --enable-dns-hostnames \"{\\\"Value\\\":true}\"\n",
    "\n",
    "export internetGatewayId=$(aws ec2 create-internet-gateway --query 'InternetGateway.InternetGatewayId' --output text)\n",
    "aws ec2 create-tags --resources $internetGatewayId --tags --tags Key=Name,Value=$name-gateway\n",
    "aws ec2 attach-internet-gateway --internet-gateway-id $internetGatewayId --vpc-id $vpcId\n",
    "\n",
    "export subnetId=$(aws ec2 create-subnet --vpc-id $vpcId --cidr-block 10.0.0.0/28 --query 'Subnet.SubnetId' --output text)\n",
    "# aws ec2 modify-subnet-attribute --subnet-id $subnetId --map-public-ip-on-launch // Public id needed?\n",
    "aws ec2 create-tags --resources $subnetId --tags --tags Key=Name,Value=$name-subnet\n",
    "\n",
    "export routeTableId=$(aws ec2 create-route-table --vpc-id $vpcId --query 'RouteTable.RouteTableId' --output text)\n",
    "aws ec2 create-tags --resources $routeTableId --tags --tags Key=Name,Value=$name-route-table\n",
    "export routeTableAssoc=$(aws ec2 associate-route-table --route-table-id $routeTableId --subnet-id $subnetId --output text)\n",
    "aws ec2 create-route --route-table-id $routeTableId --destination-cidr-block 0.0.0.0/0 --gateway-id $internetGatewayId\n",
    "\n",
    "export securityGroupId=$(aws ec2 create-security-group --group-name $name-security-group --description $sgTag --vpc-id $vpcId --query 'GroupId' --output text)\n",
    "# ssh\n",
    "aws ec2 authorize-security-group-ingress --group-id $securityGroupId --protocol tcp --port 22 --cidr $cidr\n",
    "# jupyter notebook\n",
    "aws ec2 authorize-security-group-ingress --group-id $securityGroupId --protocol tcp --port 8888-8898 --cidr $cidr\n",
    "\n",
    "if [ ! -d ~/.ssh ]\n",
    "then\n",
    "\tmkdir ~/.ssh\n",
    "fi\n",
    "\n",
    "if [ ! -f ~/.ssh/aws-key-$name.pem ]\n",
    "then\n",
    "\taws ec2 create-key-pair --key-name aws-key-$name --query 'KeyMaterial' --output text > ~/.ssh/aws-key-$name.pem\n",
    "\tchmod 400 ~/.ssh/aws-key-$name.pem\n",
    "fi"
   ]
  }
 ],
 "metadata": {
  "kernelspec": {
   "display_name": "Python 3",
   "language": "python",
   "name": "python3"
  },
  "language_info": {
   "codemirror_mode": {
    "name": "ipython",
    "version": 3
   },
   "file_extension": ".py",
   "mimetype": "text/x-python",
   "name": "python",
   "nbconvert_exporter": "python",
   "pygments_lexer": "ipython3",
   "version": "3.6.3"
  }
 },
 "nbformat": 4,
 "nbformat_minor": 2
}
