{
 "cells": [
  {
   "cell_type": "code",
   "execution_count": 101,
   "metadata": {
    "collapsed": true
   },
   "outputs": [],
   "source": [
    "import argparse\n",
    "import boto3\n",
    "import paramiko\n",
    "import os, sys, time\n",
    "from pathlib import Path"
   ]
  },
  {
   "cell_type": "code",
   "execution_count": null,
   "metadata": {
    "collapsed": true
   },
   "outputs": [],
   "source": [
    "profile = [\n",
    "    'region': \n",
    "]"
   ]
  },
  {
   "cell_type": "code",
   "execution_count": 5,
   "metadata": {},
   "outputs": [],
   "source": [
    "session = boto3.Session()"
   ]
  },
  {
   "cell_type": "code",
   "execution_count": null,
   "metadata": {
    "collapsed": true
   },
   "outputs": [],
   "source": []
  },
  {
   "cell_type": "code",
   "execution_count": 170,
   "metadata": {
    "collapsed": true
   },
   "outputs": [],
   "source": [
    "ec2 = session.resource('ec2')"
   ]
  },
  {
   "cell_type": "code",
   "execution_count": 192,
   "metadata": {
    "collapsed": true
   },
   "outputs": [],
   "source": [
    "c = ec2.vpcs.filter(Filters=[{'Name': 'tag-value', 'Values': ['sdfjklsdf']}])"
   ]
  },
  {
   "cell_type": "code",
   "execution_count": 194,
   "metadata": {},
   "outputs": [],
   "source": [
    "if list(c):\n",
    "    print('sdjfklds')"
   ]
  },
  {
   "cell_type": "code",
   "execution_count": 186,
   "metadata": {},
   "outputs": [
    {
     "ename": "TypeError",
     "evalue": "'ec2.vpcsCollection' object does not support indexing",
     "output_type": "error",
     "traceback": [
      "\u001b[0;31m---------------------------------------------------------------------------\u001b[0m",
      "\u001b[0;31mTypeError\u001b[0m                                 Traceback (most recent call last)",
      "\u001b[0;32m<ipython-input-186-a114673382cc>\u001b[0m in \u001b[0;36m<module>\u001b[0;34m()\u001b[0m\n\u001b[0;32m----> 1\u001b[0;31m \u001b[0mec2\u001b[0m\u001b[0;34m.\u001b[0m\u001b[0mvpcs\u001b[0m\u001b[0;34m.\u001b[0m\u001b[0mfilter\u001b[0m\u001b[0;34m(\u001b[0m\u001b[0mFilters\u001b[0m\u001b[0;34m=\u001b[0m\u001b[0;34m[\u001b[0m\u001b[0;34m{\u001b[0m\u001b[0;34m'Name'\u001b[0m\u001b[0;34m:\u001b[0m \u001b[0;34m'tag-value'\u001b[0m\u001b[0;34m,\u001b[0m \u001b[0;34m'Values'\u001b[0m\u001b[0;34m:\u001b[0m \u001b[0;34m[\u001b[0m\u001b[0mname\u001b[0m\u001b[0;34m]\u001b[0m\u001b[0;34m}\u001b[0m\u001b[0;34m]\u001b[0m\u001b[0;34m)\u001b[0m\u001b[0;34m[\u001b[0m\u001b[0;36m0\u001b[0m\u001b[0;34m]\u001b[0m\u001b[0;34m.\u001b[0m\u001b[0mid\u001b[0m\u001b[0;34m\u001b[0m\u001b[0m\n\u001b[0m",
      "\u001b[0;31mTypeError\u001b[0m: 'ec2.vpcsCollection' object does not support indexing"
     ]
    }
   ],
   "source": [
    "list(ec2.vpcs.filter(Filters=[{'Name': 'tag-value', 'Values': [name]}]))[0].id"
   ]
  },
  {
   "cell_type": "code",
   "execution_count": 182,
   "metadata": {},
   "outputs": [
    {
     "data": {
      "text/plain": [
       "[ec2.Vpc(id='vpc-6e6b2a17'),\n",
       " ec2.Vpc(id='vpc-bc7e3fc5'),\n",
       " ec2.Vpc(id='vpc-56b0f02f')]"
      ]
     },
     "execution_count": 182,
     "metadata": {},
     "output_type": "execute_result"
    }
   ],
   "source": [
    "list(ec2.vpcs.all())"
   ]
  },
  {
   "cell_type": "code",
   "execution_count": 173,
   "metadata": {},
   "outputs": [
    {
     "ename": "TypeError",
     "evalue": "'ec2.vpcsCollectionManager' object is not callable",
     "output_type": "error",
     "traceback": [
      "\u001b[0;31m---------------------------------------------------------------------------\u001b[0m",
      "\u001b[0;31mTypeError\u001b[0m                                 Traceback (most recent call last)",
      "\u001b[0;32m<ipython-input-173-98980199814d>\u001b[0m in \u001b[0;36m<module>\u001b[0;34m()\u001b[0m\n\u001b[0;32m----> 1\u001b[0;31m \u001b[0mec2\u001b[0m\u001b[0;34m.\u001b[0m\u001b[0mvpcs\u001b[0m\u001b[0;34m(\u001b[0m\u001b[0mFilters\u001b[0m\u001b[0;34m=\u001b[0m\u001b[0;34m[\u001b[0m\u001b[0;34m{\u001b[0m\u001b[0;34m'Name'\u001b[0m\u001b[0;34m:\u001b[0m \u001b[0;34m'tag-value'\u001b[0m\u001b[0;34m,\u001b[0m \u001b[0;34m'Values'\u001b[0m\u001b[0;34m:\u001b[0m \u001b[0;34m[\u001b[0m\u001b[0mname\u001b[0m\u001b[0;34m]\u001b[0m\u001b[0;34m}\u001b[0m\u001b[0;34m]\u001b[0m\u001b[0;34m)\u001b[0m\u001b[0;34m\u001b[0m\u001b[0m\n\u001b[0m",
      "\u001b[0;31mTypeError\u001b[0m: 'ec2.vpcsCollectionManager' object is not callable"
     ]
    }
   ],
   "source": [
    "ec2.vpcs(Filters=[{'Name': 'tag-value', 'Values': [name]}])"
   ]
  },
  {
   "cell_type": "code",
   "execution_count": 7,
   "metadata": {},
   "outputs": [],
   "source": [
    "ec2_client = session.client('ec2')"
   ]
  },
  {
   "cell_type": "code",
   "execution_count": 39,
   "metadata": {},
   "outputs": [
    {
     "data": {
      "text/plain": [
       "{'ResponseMetadata': {'HTTPHeaders': {'content-type': 'text/xml;charset=UTF-8',\n",
       "   'date': 'Wed, 28 Mar 2018 08:38:27 GMT',\n",
       "   'server': 'AmazonEC2',\n",
       "   'transfer-encoding': 'chunked',\n",
       "   'vary': 'Accept-Encoding'},\n",
       "  'HTTPStatusCode': 200,\n",
       "  'RequestId': 'acf17ac6-1d70-4313-b783-c0146c637c92',\n",
       "  'RetryAttempts': 0},\n",
       " 'SecurityGroups': [{'Description': 'default group',\n",
       "   'GroupId': 'sg-0b31743b',\n",
       "   'GroupName': 'default',\n",
       "   'IpPermissions': [{'FromPort': 0,\n",
       "     'IpProtocol': 'tcp',\n",
       "     'IpRanges': [],\n",
       "     'Ipv6Ranges': [],\n",
       "     'PrefixListIds': [],\n",
       "     'ToPort': 65535,\n",
       "     'UserIdGroupPairs': [{'GroupId': 'sg-0b31743b',\n",
       "       'GroupName': 'default',\n",
       "       'UserId': '698042698196'}]},\n",
       "    {'FromPort': 0,\n",
       "     'IpProtocol': 'udp',\n",
       "     'IpRanges': [],\n",
       "     'Ipv6Ranges': [],\n",
       "     'PrefixListIds': [],\n",
       "     'ToPort': 65535,\n",
       "     'UserIdGroupPairs': [{'GroupId': 'sg-0b31743b',\n",
       "       'GroupName': 'default',\n",
       "       'UserId': '698042698196'}]},\n",
       "    {'FromPort': -1,\n",
       "     'IpProtocol': 'icmp',\n",
       "     'IpRanges': [],\n",
       "     'Ipv6Ranges': [],\n",
       "     'PrefixListIds': [],\n",
       "     'ToPort': -1,\n",
       "     'UserIdGroupPairs': [{'GroupId': 'sg-0b31743b',\n",
       "       'GroupName': 'default',\n",
       "       'UserId': '698042698196'}]},\n",
       "    {'FromPort': 22,\n",
       "     'IpProtocol': 'tcp',\n",
       "     'IpRanges': [{'CidrIp': '0.0.0.0/0'}],\n",
       "     'Ipv6Ranges': [],\n",
       "     'PrefixListIds': [],\n",
       "     'ToPort': 22,\n",
       "     'UserIdGroupPairs': []},\n",
       "    {'FromPort': 25,\n",
       "     'IpProtocol': 'tcp',\n",
       "     'IpRanges': [{'CidrIp': '0.0.0.0/0'}],\n",
       "     'Ipv6Ranges': [],\n",
       "     'PrefixListIds': [],\n",
       "     'ToPort': 25,\n",
       "     'UserIdGroupPairs': []},\n",
       "    {'FromPort': 80,\n",
       "     'IpProtocol': 'tcp',\n",
       "     'IpRanges': [{'CidrIp': '0.0.0.0/0'}],\n",
       "     'Ipv6Ranges': [],\n",
       "     'PrefixListIds': [],\n",
       "     'ToPort': 80,\n",
       "     'UserIdGroupPairs': []},\n",
       "    {'FromPort': 110,\n",
       "     'IpProtocol': 'tcp',\n",
       "     'IpRanges': [{'CidrIp': '0.0.0.0/0'}],\n",
       "     'Ipv6Ranges': [],\n",
       "     'PrefixListIds': [],\n",
       "     'ToPort': 110,\n",
       "     'UserIdGroupPairs': []},\n",
       "    {'FromPort': 443,\n",
       "     'IpProtocol': 'tcp',\n",
       "     'IpRanges': [{'CidrIp': '0.0.0.0/0'}],\n",
       "     'Ipv6Ranges': [],\n",
       "     'PrefixListIds': [],\n",
       "     'ToPort': 443,\n",
       "     'UserIdGroupPairs': []},\n",
       "    {'FromPort': 3306,\n",
       "     'IpProtocol': 'tcp',\n",
       "     'IpRanges': [{'CidrIp': '0.0.0.0/0'}],\n",
       "     'Ipv6Ranges': [],\n",
       "     'PrefixListIds': [],\n",
       "     'ToPort': 3306,\n",
       "     'UserIdGroupPairs': []},\n",
       "    {'FromPort': 8512,\n",
       "     'IpProtocol': 'tcp',\n",
       "     'IpRanges': [{'CidrIp': '0.0.0.0/0'}],\n",
       "     'Ipv6Ranges': [],\n",
       "     'PrefixListIds': [],\n",
       "     'ToPort': 8512,\n",
       "     'UserIdGroupPairs': []},\n",
       "    {'FromPort': 53,\n",
       "     'IpProtocol': 'udp',\n",
       "     'IpRanges': [{'CidrIp': '0.0.0.0/0'}],\n",
       "     'Ipv6Ranges': [],\n",
       "     'PrefixListIds': [],\n",
       "     'ToPort': 53,\n",
       "     'UserIdGroupPairs': []},\n",
       "    {'FromPort': 8512,\n",
       "     'IpProtocol': 'udp',\n",
       "     'IpRanges': [{'CidrIp': '0.0.0.0/0'}],\n",
       "     'Ipv6Ranges': [],\n",
       "     'PrefixListIds': [],\n",
       "     'ToPort': 8512,\n",
       "     'UserIdGroupPairs': []}],\n",
       "   'IpPermissionsEgress': [],\n",
       "   'OwnerId': '698042698196'},\n",
       "  {'Description': 'More permissions',\n",
       "   'GroupId': 'sg-ab84c69b',\n",
       "   'GroupName': 'AndrewDefault',\n",
       "   'IpPermissions': [{'FromPort': 22,\n",
       "     'IpProtocol': 'tcp',\n",
       "     'IpRanges': [{'CidrIp': '0.0.0.0/0'}],\n",
       "     'Ipv6Ranges': [],\n",
       "     'PrefixListIds': [],\n",
       "     'ToPort': 22,\n",
       "     'UserIdGroupPairs': []},\n",
       "    {'FromPort': 80,\n",
       "     'IpProtocol': 'tcp',\n",
       "     'IpRanges': [{'CidrIp': '0.0.0.0/0'}],\n",
       "     'Ipv6Ranges': [],\n",
       "     'PrefixListIds': [],\n",
       "     'ToPort': 80,\n",
       "     'UserIdGroupPairs': []},\n",
       "    {'FromPort': 443,\n",
       "     'IpProtocol': 'tcp',\n",
       "     'IpRanges': [{'CidrIp': '0.0.0.0/0'}],\n",
       "     'Ipv6Ranges': [],\n",
       "     'PrefixListIds': [],\n",
       "     'ToPort': 443,\n",
       "     'UserIdGroupPairs': []},\n",
       "    {'FromPort': 995,\n",
       "     'IpProtocol': 'tcp',\n",
       "     'IpRanges': [{'CidrIp': '0.0.0.0/0'}],\n",
       "     'Ipv6Ranges': [],\n",
       "     'PrefixListIds': [],\n",
       "     'ToPort': 995,\n",
       "     'UserIdGroupPairs': []},\n",
       "    {'FromPort': 3306,\n",
       "     'IpProtocol': 'tcp',\n",
       "     'IpRanges': [{'CidrIp': '0.0.0.0/0'}],\n",
       "     'Ipv6Ranges': [],\n",
       "     'PrefixListIds': [],\n",
       "     'ToPort': 3306,\n",
       "     'UserIdGroupPairs': []}],\n",
       "   'IpPermissionsEgress': [],\n",
       "   'OwnerId': '698042698196'},\n",
       "  {'Description': 'SG for fast.ai machine',\n",
       "   'GroupId': 'sg-3f488d41',\n",
       "   'GroupName': 'test-vpc-security-group',\n",
       "   'IpPermissions': [{'FromPort': 8888,\n",
       "     'IpProtocol': 'tcp',\n",
       "     'IpRanges': [{'CidrIp': '0.0.0.0/0'}],\n",
       "     'Ipv6Ranges': [],\n",
       "     'PrefixListIds': [],\n",
       "     'ToPort': 8898,\n",
       "     'UserIdGroupPairs': []},\n",
       "    {'FromPort': 22,\n",
       "     'IpProtocol': 'tcp',\n",
       "     'IpRanges': [{'CidrIp': '0.0.0.0/0'}],\n",
       "     'Ipv6Ranges': [],\n",
       "     'PrefixListIds': [],\n",
       "     'ToPort': 22,\n",
       "     'UserIdGroupPairs': []}],\n",
       "   'IpPermissionsEgress': [{'IpProtocol': '-1',\n",
       "     'IpRanges': [{'CidrIp': '0.0.0.0/0'}],\n",
       "     'Ipv6Ranges': [],\n",
       "     'PrefixListIds': [],\n",
       "     'UserIdGroupPairs': []}],\n",
       "   'OwnerId': '698042698196',\n",
       "   'VpcId': 'vpc-bc7e3fc5'},\n",
       "  {'Description': 'default VPC security group',\n",
       "   'GroupId': 'sg-4f02c731',\n",
       "   'GroupName': 'default',\n",
       "   'IpPermissions': [{'IpProtocol': '-1',\n",
       "     'IpRanges': [],\n",
       "     'Ipv6Ranges': [],\n",
       "     'PrefixListIds': [],\n",
       "     'UserIdGroupPairs': [{'GroupId': 'sg-4f02c731',\n",
       "       'UserId': '698042698196'}]}],\n",
       "   'IpPermissionsEgress': [{'IpProtocol': '-1',\n",
       "     'IpRanges': [{'CidrIp': '0.0.0.0/0'}],\n",
       "     'Ipv6Ranges': [],\n",
       "     'PrefixListIds': [],\n",
       "     'UserIdGroupPairs': []}],\n",
       "   'OwnerId': '698042698196',\n",
       "   'VpcId': 'vpc-6e6b2a17'},\n",
       "  {'Description': 'default VPC security group',\n",
       "   'GroupId': 'sg-cc4f8ab2',\n",
       "   'GroupName': 'default',\n",
       "   'IpPermissions': [{'IpProtocol': '-1',\n",
       "     'IpRanges': [],\n",
       "     'Ipv6Ranges': [],\n",
       "     'PrefixListIds': [],\n",
       "     'UserIdGroupPairs': [{'GroupId': 'sg-cc4f8ab2',\n",
       "       'UserId': '698042698196'}]}],\n",
       "   'IpPermissionsEgress': [{'IpProtocol': '-1',\n",
       "     'IpRanges': [{'CidrIp': '0.0.0.0/0'}],\n",
       "     'Ipv6Ranges': [],\n",
       "     'PrefixListIds': [],\n",
       "     'UserIdGroupPairs': []}],\n",
       "   'OwnerId': '698042698196',\n",
       "   'VpcId': 'vpc-bc7e3fc5'},\n",
       "  {'Description': 'SG for fast.ai machine',\n",
       "   'GroupId': 'sg-f60fca88',\n",
       "   'GroupName': 'fast-ai-security-group',\n",
       "   'IpPermissions': [{'FromPort': 8888,\n",
       "     'IpProtocol': 'tcp',\n",
       "     'IpRanges': [{'CidrIp': '0.0.0.0/0'}],\n",
       "     'Ipv6Ranges': [],\n",
       "     'PrefixListIds': [],\n",
       "     'ToPort': 8898,\n",
       "     'UserIdGroupPairs': []},\n",
       "    {'FromPort': 22,\n",
       "     'IpProtocol': 'tcp',\n",
       "     'IpRanges': [{'CidrIp': '0.0.0.0/0'}],\n",
       "     'Ipv6Ranges': [],\n",
       "     'PrefixListIds': [],\n",
       "     'ToPort': 22,\n",
       "     'UserIdGroupPairs': []}],\n",
       "   'IpPermissionsEgress': [{'IpProtocol': '-1',\n",
       "     'IpRanges': [{'CidrIp': '0.0.0.0/0'}],\n",
       "     'Ipv6Ranges': [],\n",
       "     'PrefixListIds': [],\n",
       "     'UserIdGroupPairs': []}],\n",
       "   'OwnerId': '698042698196',\n",
       "   'VpcId': 'vpc-6e6b2a17'}]}"
      ]
     },
     "execution_count": 39,
     "metadata": {},
     "output_type": "execute_result"
    }
   ],
   "source": [
    "ec2_client.describe_security_groups()"
   ]
  },
  {
   "cell_type": "code",
   "execution_count": 270,
   "metadata": {
    "collapsed": true
   },
   "outputs": [],
   "source": [
    "def get_vpc(name):\n",
    "    vpcs = list(ec2.vpcs.filter(Filters=[{'Name': 'tag-value', 'Values': [name]}]))\n",
    "    return vpcs[0] if vpcs else None"
   ]
  },
  {
   "cell_type": "code",
   "execution_count": 271,
   "metadata": {
    "collapsed": true
   },
   "outputs": [],
   "source": [
    "def get_security_group(name, vpc_id):\n",
    "    sg_tag = f'{name}-security-group'\n",
    "    filters = [{'Name': 'group-name', 'Values': [sg_tag]}, {'Name': 'vpc-id', 'Values': [vpc_id]}]\n",
    "    sgs = list(ec2.security_groups.filter(Filters=filters))\n",
    "    return sgs[0] if sgs else None"
   ]
  },
  {
   "cell_type": "code",
   "execution_count": 272,
   "metadata": {
    "collapsed": true
   },
   "outputs": [],
   "source": [
    "def get_subnet(name, vpc_id):\n",
    "    subnet_tag = f'{name}-subnet'\n",
    "    filters = [{'Name': 'tag-value', 'Values': [subnet_tag]}, {'Name': 'vpc-id', 'Values': [vpc_id]}]\n",
    "    subnets = list(ec2.subnets.filter(Filters=filters))\n",
    "    return subnets[0] if subnets else None"
   ]
  },
  {
   "cell_type": "code",
   "execution_count": 302,
   "metadata": {},
   "outputs": [
    {
     "ename": "TypeError",
     "evalue": "'ec2.Vpc.subnetsCollectionManager' object is not iterable",
     "output_type": "error",
     "traceback": [
      "\u001b[0;31m---------------------------------------------------------------------------\u001b[0m",
      "\u001b[0;31mTypeError\u001b[0m                                 Traceback (most recent call last)",
      "\u001b[0;32m<ipython-input-302-32050dcf39e5>\u001b[0m in \u001b[0;36m<module>\u001b[0;34m()\u001b[0m\n\u001b[0;32m----> 1\u001b[0;31m \u001b[0mlist\u001b[0m\u001b[0;34m(\u001b[0m\u001b[0mvpc\u001b[0m\u001b[0;34m.\u001b[0m\u001b[0msubnets\u001b[0m\u001b[0;34m)\u001b[0m\u001b[0;34m\u001b[0m\u001b[0m\n\u001b[0m",
      "\u001b[0;31mTypeError\u001b[0m: 'ec2.Vpc.subnetsCollectionManager' object is not iterable"
     ]
    }
   ],
   "source": [
    "list(vpc.subnets)"
   ]
  },
  {
   "cell_type": "code",
   "execution_count": 301,
   "metadata": {},
   "outputs": [
    {
     "data": {
      "text/plain": [
       "ec2.Vpc.subnetsCollectionManager(ec2.Vpc(id='vpc-f8bcfc81'), ec2.Subnet)"
      ]
     },
     "execution_count": 301,
     "metadata": {},
     "output_type": "execute_result"
    }
   ],
   "source": [
    "vpc.subnets"
   ]
  },
  {
   "cell_type": "code",
   "execution_count": 273,
   "metadata": {
    "collapsed": true
   },
   "outputs": [],
   "source": [
    "def get_vpc_ids(name):\n",
    "    vpc = get_vpc(name)\n",
    "    sg = get_security_group(name, vpc_id)\n",
    "    subnet = get_subnet(name, vpc_id)\n",
    "    return vpc.id, sg.id, subnet.id"
   ]
  },
  {
   "cell_type": "code",
   "execution_count": 274,
   "metadata": {
    "collapsed": true
   },
   "outputs": [],
   "source": [
    "name='fast-ai'"
   ]
  },
  {
   "cell_type": "code",
   "execution_count": 276,
   "metadata": {},
   "outputs": [
    {
     "data": {
      "text/plain": [
       "('vpc-6e6b2a17', 'sg-f60fca88', 'subnet-f056ff89')"
      ]
     },
     "execution_count": 276,
     "metadata": {},
     "output_type": "execute_result"
    }
   ],
   "source": [
    "get_vpc_ids(name)"
   ]
  },
  {
   "cell_type": "markdown",
   "metadata": {},
   "source": [
    "### Creating a vpc"
   ]
  },
  {
   "cell_type": "code",
   "execution_count": 106,
   "metadata": {},
   "outputs": [],
   "source": [
    "a = Path.home()"
   ]
  },
  {
   "cell_type": "code",
   "execution_count": 107,
   "metadata": {},
   "outputs": [
    {
     "data": {
      "text/plain": [
       "PosixPath('/Users/andrewshaw')"
      ]
     },
     "execution_count": 107,
     "metadata": {},
     "output_type": "execute_result"
    }
   ],
   "source": []
  },
  {
   "cell_type": "code",
   "execution_count": 108,
   "metadata": {
    "collapsed": true
   },
   "outputs": [],
   "source": []
  },
  {
   "cell_type": "code",
   "execution_count": null,
   "metadata": {
    "collapsed": true
   },
   "outputs": [],
   "source": [
    "ec2.create_key_pair()"
   ]
  },
  {
   "cell_type": "code",
   "execution_count": 263,
   "metadata": {},
   "outputs": [],
   "source": [
    "def create_ec2_keypair(name):\n",
    "    ssh_dir = Path.home()/'.ssh'\n",
    "    (ssh_dir).mkdir(exist_ok=True)\n",
    "    keypair_name = f'aws-key-{name}'\n",
    "    filename = ssh_dir/f'{keypair_name}.pem'\n",
    "    if filename.exists():\n",
    "        print('Keypair exists')\n",
    "        return\n",
    "    keypair = ec2.create_key_pair(KeyName=keypair_name)\n",
    "    keypair_out = keypair.key_material\n",
    "    outfile = open(filename,'w')\n",
    "    outfile.write(keypair_out)\n",
    "    os.chmod(filename, 0o400)\n",
    "    print('Created keypair')"
   ]
  },
  {
   "cell_type": "code",
   "execution_count": 257,
   "metadata": {},
   "outputs": [],
   "source": [
    "# keypair = ec2.create_key_pair(KeyName='test-fast')"
   ]
  },
  {
   "cell_type": "code",
   "execution_count": 268,
   "metadata": {},
   "outputs": [
    {
     "data": {
      "text/plain": [
       "{'ResponseMetadata': {'HTTPHeaders': {'content-length': '227',\n",
       "   'content-type': 'text/xml;charset=UTF-8',\n",
       "   'date': 'Wed, 28 Mar 2018 18:54:54 GMT',\n",
       "   'server': 'AmazonEC2'},\n",
       "  'HTTPStatusCode': 200,\n",
       "  'RequestId': 'c01140cc-baab-4628-9601-7dca6fc23be6',\n",
       "  'RetryAttempts': 0}}"
      ]
     },
     "execution_count": 268,
     "metadata": {},
     "output_type": "execute_result"
    }
   ],
   "source": [
    "# ec2_client.delete_key_pair(KeyName='aws-key-test-fast')"
   ]
  },
  {
   "cell_type": "code",
   "execution_count": 277,
   "metadata": {
    "collapsed": true
   },
   "outputs": [],
   "source": [
    "sg = get_security_group(name, vpc_id)"
   ]
  },
  {
   "cell_type": "code",
   "execution_count": null,
   "metadata": {
    "collapsed": true
   },
   "outputs": [],
   "source": [
    "sg.authorize_ingress"
   ]
  },
  {
   "cell_type": "code",
   "execution_count": 280,
   "metadata": {},
   "outputs": [
    {
     "data": {
      "text/plain": [
       "{'ResponseMetadata': {'HTTPHeaders': {'content-type': 'text/xml;charset=UTF-8',\n",
       "   'date': 'Wed, 28 Mar 2018 18:59:37 GMT',\n",
       "   'server': 'AmazonEC2',\n",
       "   'transfer-encoding': 'chunked',\n",
       "   'vary': 'Accept-Encoding'},\n",
       "  'HTTPStatusCode': 200,\n",
       "  'RequestId': 'e508054f-a2d4-4aa1-a3a1-57a392e606ef',\n",
       "  'RetryAttempts': 0}}"
      ]
     },
     "execution_count": 280,
     "metadata": {},
     "output_type": "execute_result"
    }
   ],
   "source": [
    "sg.authorize_ingress(IpProtocol='tcp', FromPort=8887, ToPort=8887, CidrIp=cidr)"
   ]
  },
  {
   "cell_type": "code",
   "execution_count": 281,
   "metadata": {
    "collapsed": true
   },
   "outputs": [],
   "source": [
    "def create_security_group(name, vpc):\n",
    "    cidr = '0.0.0.0/0'\n",
    "    sg = vpc.create_security_group(GroupName=f'{name}-security-group-test', Description='SG for {name} machine')\n",
    "    # ssh\n",
    "    sg.authorize_ingress(IpProtocol='tcp', FromPort=22, ToPort=22, CidrIp=cidr)\n",
    "    # jupyter notebook\n",
    "    sg.authorize_ingress(IpProtocol='tcp', FromPort=8888, ToPort=8898, CidrIp=cidr)\n",
    "    return sg_id"
   ]
  },
  {
   "cell_type": "code",
   "execution_count": null,
   "metadata": {
    "collapsed": true
   },
   "outputs": [],
   "source": [
    "def create_vpc(name):\n",
    "    cidr_block='10.0.0.0/28'\n",
    "    vpc = ec2.create_vpc(CidrBlock=cidr_block)\n",
    "    vpc.modify_attribute(EnableDnsSupport={'Value':True})\n",
    "    vpc.modify_attribute(EnableDnsHostnames={'Value':True})\n",
    "    vpc.create_tags(Tags=[{'Key':'Name','Value':name}])\n",
    "    \n",
    "    rt = vpc.create_route_table()\n",
    "    \n",
    "    \n",
    "    return vpc"
   ]
  },
  {
   "cell_type": "code",
   "execution_count": null,
   "metadata": {
    "collapsed": true
   },
   "outputs": [],
   "source": [
    "def create_route_table()"
   ]
  },
  {
   "cell_type": "code",
   "execution_count": 292,
   "metadata": {
    "collapsed": true
   },
   "outputs": [],
   "source": [
    "subnet = vpc.create_subnet(CidrBlock=cidr_block)"
   ]
  },
  {
   "cell_type": "code",
   "execution_count": 294,
   "metadata": {},
   "outputs": [
    {
     "data": {
      "text/plain": [
       "[ec2.Tag(resource_id='subnet-0fc10b44', key='Name', value='fast-ai-subnet')]"
      ]
     },
     "execution_count": 294,
     "metadata": {},
     "output_type": "execute_result"
    }
   ],
   "source": [
    "subnet.create_tags(Tags=[{'Key':'Name','Value':f'{name}-subnet'}])"
   ]
  },
  {
   "cell_type": "code",
   "execution_count": 289,
   "metadata": {
    "collapsed": true
   },
   "outputs": [],
   "source": [
    "rt = vpc.create_route_table()"
   ]
  },
  {
   "cell_type": "code",
   "execution_count": 293,
   "metadata": {},
   "outputs": [
    {
     "data": {
      "text/plain": [
       "[ec2.Tag(resource_id='rtb-79dca001', key='Name', value='fast-ai-subnet')]"
      ]
     },
     "execution_count": 293,
     "metadata": {},
     "output_type": "execute_result"
    }
   ],
   "source": [
    "rt.create_tags(Tags=[{'Key':'Name','Value':f'{name}-route-table'}])"
   ]
  },
  {
   "cell_type": "code",
   "execution_count": 295,
   "metadata": {},
   "outputs": [
    {
     "data": {
      "text/plain": [
       "ec2.Vpc.subnetsCollectionManager(ec2.Vpc(id='vpc-f8bcfc81'), ec2.Subnet)"
      ]
     },
     "execution_count": 295,
     "metadata": {},
     "output_type": "execute_result"
    }
   ],
   "source": []
  },
  {
   "cell_type": "code",
   "execution_count": null,
   "metadata": {
    "collapsed": true
   },
   "outputs": [],
   "source": [
    "rt.associate_with_subnet"
   ]
  },
  {
   "cell_type": "code",
   "execution_count": null,
   "metadata": {
    "collapsed": true
   },
   "outputs": [],
   "source": [
    "\n",
    "route_table = vpc.create_route_table()\n",
    "route_table.create_tags(Tags=u.make_name(ROUTE_TABLE_NAME))"
   ]
  },
  {
   "cell_type": "code",
   "execution_count": null,
   "metadata": {
    "collapsed": true
   },
   "outputs": [],
   "source": [
    "\n",
    "export internetGatewayId=$(aws ec2 create-internet-gateway --query 'InternetGateway.InternetGatewayId' --output text)\n",
    "aws ec2 create-tags --resources $internetGatewayId --tags --tags Key=Name,Value=$name-gateway\n",
    "aws ec2 attach-internet-gateway --internet-gateway-id $internetGatewayId --vpc-id $vpcId\n",
    "\n",
    "export subnetId=$(aws ec2 create-subnet --vpc-id $vpcId --cidr-block 10.0.0.0/28 --query 'Subnet.SubnetId' --output text)\n",
    "# aws ec2 modify-subnet-attribute --subnet-id $subnetId --map-public-ip-on-launch // Public id needed?\n",
    "aws ec2 create-tags --resources $subnetId --tags --tags Key=Name,Value=$name-subnet\n",
    "\n",
    "export routeTableId=$(aws ec2 create-route-table --vpc-id $vpcId --query 'RouteTable.RouteTableId' --output text)\n",
    "aws ec2 create-tags --resources $routeTableId --tags --tags Key=Name,Value=$name-route-table\n",
    "export routeTableAssoc=$(aws ec2 associate-route-table --route-table-id $routeTableId --subnet-id $subnetId --output text)\n",
    "aws ec2 create-route --route-table-id $routeTableId --destination-cidr-block 0.0.0.0/0 --gateway-id $internetGatewayId\n"
   ]
  },
  {
   "cell_type": "code",
   "execution_count": null,
   "metadata": {
    "collapsed": true
   },
   "outputs": [],
   "source": [
    "#!/bin/bash\n",
    "\n",
    "# settings\n",
    "export name=\"fast-ai\"\n",
    "\n",
    "export cidr=\"0.0.0.0/0\"\n",
    "export vpcTag=$name\n",
    "export sgTag=\"SG for fast.ai machine\"\n",
    "export subnetTag=\"$name-subnet\"\n",
    "\n",
    "hash aws 2>/dev/null\n",
    "if [ $? -ne 0 ]; then\n",
    "    echo >&2 \"'aws' command line tool required, but not installed.  Aborting.\"\n",
    "    exit 1\n",
    "fi\n",
    "\n",
    "if [ -z \"$(aws configure get aws_access_key_id)\" ]; then\n",
    "    echo \"AWS credentials not configured.  Aborting\"\n",
    "    exit 1\n",
    "fi\n",
    "\n",
    "export vpcId=$(aws ec2 create-vpc --cidr-block 10.0.0.0/28 --query 'Vpc.VpcId' --output text)\n",
    "aws ec2 create-tags --resources $vpcId --tags --tags Key=Name,Value=$name\n",
    "aws ec2 modify-vpc-attribute --vpc-id $vpcId --enable-dns-support \"{\\\"Value\\\":true}\"\n",
    "aws ec2 modify-vpc-attribute --vpc-id $vpcId --enable-dns-hostnames \"{\\\"Value\\\":true}\"\n",
    "\n",
    "export internetGatewayId=$(aws ec2 create-internet-gateway --query 'InternetGateway.InternetGatewayId' --output text)\n",
    "aws ec2 create-tags --resources $internetGatewayId --tags --tags Key=Name,Value=$name-gateway\n",
    "aws ec2 attach-internet-gateway --internet-gateway-id $internetGatewayId --vpc-id $vpcId\n",
    "\n",
    "export subnetId=$(aws ec2 create-subnet --vpc-id $vpcId --cidr-block 10.0.0.0/28 --query 'Subnet.SubnetId' --output text)\n",
    "# aws ec2 modify-subnet-attribute --subnet-id $subnetId --map-public-ip-on-launch // Public id needed?\n",
    "aws ec2 create-tags --resources $subnetId --tags --tags Key=Name,Value=$name-subnet\n",
    "\n",
    "export routeTableId=$(aws ec2 create-route-table --vpc-id $vpcId --query 'RouteTable.RouteTableId' --output text)\n",
    "aws ec2 create-tags --resources $routeTableId --tags --tags Key=Name,Value=$name-route-table\n",
    "export routeTableAssoc=$(aws ec2 associate-route-table --route-table-id $routeTableId --subnet-id $subnetId --output text)\n",
    "aws ec2 create-route --route-table-id $routeTableId --destination-cidr-block 0.0.0.0/0 --gateway-id $internetGatewayId\n",
    "\n",
    "export securityGroupId=$(aws ec2 create-security-group --group-name $name-security-group --description $sgTag --vpc-id $vpcId --query 'GroupId' --output text)\n",
    "# ssh\n",
    "aws ec2 authorize-security-group-ingress --group-id $securityGroupId --protocol tcp --port 22 --cidr $cidr\n",
    "# jupyter notebook\n",
    "aws ec2 authorize-security-group-ingress --group-id $securityGroupId --protocol tcp --port 8888-8898 --cidr $cidr\n",
    "\n",
    "if [ ! -d ~/.ssh ]\n",
    "then\n",
    "\tmkdir ~/.ssh\n",
    "fi\n",
    "\n",
    "if [ ! -f ~/.ssh/aws-key-$name.pem ]\n",
    "then\n",
    "\taws ec2 create-key-pair --key-name aws-key-$name --query 'KeyMaterial' --output text > ~/.ssh/aws-key-$name.pem\n",
    "\tchmod 400 ~/.ssh/aws-key-$name.pem\n",
    "fi"
   ]
  }
 ],
 "metadata": {
  "kernelspec": {
   "display_name": "Python 3",
   "language": "python",
   "name": "python3"
  },
  "language_info": {
   "codemirror_mode": {
    "name": "ipython",
    "version": 3
   },
   "file_extension": ".py",
   "mimetype": "text/x-python",
   "name": "python",
   "nbconvert_exporter": "python",
   "pygments_lexer": "ipython3",
   "version": "3.6.3"
  }
 },
 "nbformat": 4,
 "nbformat_minor": 2
}
