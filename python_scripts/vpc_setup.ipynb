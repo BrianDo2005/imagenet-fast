{
 "cells": [
  {
   "cell_type": "code",
   "execution_count": 101,
   "metadata": {
    "collapsed": true
   },
   "outputs": [],
   "source": [
    "import argparse\n",
    "import boto3\n",
    "import paramiko\n",
    "import os, sys, time\n",
    "from pathlib import Path"
   ]
  },
  {
   "cell_type": "code",
   "execution_count": null,
   "metadata": {
    "collapsed": true
   },
   "outputs": [],
   "source": [
    "profile = [\n",
    "    'region': \n",
    "]"
   ]
  },
  {
   "cell_type": "code",
   "execution_count": 5,
   "metadata": {},
   "outputs": [],
   "source": [
    "session = boto3.Session()"
   ]
  },
  {
   "cell_type": "code",
   "execution_count": null,
   "metadata": {
    "collapsed": true
   },
   "outputs": [],
   "source": []
  },
  {
   "cell_type": "code",
   "execution_count": 170,
   "metadata": {
    "collapsed": true
   },
   "outputs": [],
   "source": [
    "ec2 = session.resource('ec2')"
   ]
  },
  {
   "cell_type": "code",
   "execution_count": 7,
   "metadata": {},
   "outputs": [],
   "source": [
    "# ec2_client = session.client('ec2')"
   ]
  },
  {
   "cell_type": "code",
   "execution_count": 270,
   "metadata": {
    "collapsed": true
   },
   "outputs": [],
   "source": [
    "def get_vpc(name):\n",
    "    vpcs = list(ec2.vpcs.filter(Filters=[{'Name': 'tag-value', 'Values': [name]}]))\n",
    "    return vpcs[0] if vpcs else None"
   ]
  },
  {
   "cell_type": "code",
   "execution_count": 308,
   "metadata": {
    "collapsed": true
   },
   "outputs": [],
   "source": [
    "def get_vpc_ids(name):\n",
    "    vpc = get_vpc(name)\n",
    "    if vpc is None: return None\n",
    "    sg = list(vpc.security_groups.all())[0]\n",
    "    subnet = list(vpc.subnets.all())[0]\n",
    "    return vpc.id, sg.id, subnet.id"
   ]
  },
  {
   "cell_type": "code",
   "execution_count": 309,
   "metadata": {
    "collapsed": true
   },
   "outputs": [],
   "source": [
    "name='fast-ai'"
   ]
  },
  {
   "cell_type": "code",
   "execution_count": 310,
   "metadata": {},
   "outputs": [
    {
     "data": {
      "text/plain": [
       "('vpc-6e6b2a17', 'sg-230ccd5d', 'subnet-f056ff89')"
      ]
     },
     "execution_count": 310,
     "metadata": {},
     "output_type": "execute_result"
    }
   ],
   "source": [
    "get_vpc_ids(name)"
   ]
  },
  {
   "cell_type": "markdown",
   "metadata": {},
   "source": [
    "### Creating a vpc"
   ]
  },
  {
   "cell_type": "code",
   "execution_count": null,
   "metadata": {
    "collapsed": true
   },
   "outputs": [],
   "source": [
    "ec2.create_key_pair()"
   ]
  },
  {
   "cell_type": "code",
   "execution_count": 263,
   "metadata": {},
   "outputs": [],
   "source": [
    "def create_ec2_keypair(name):\n",
    "    ssh_dir = Path.home()/'.ssh'\n",
    "    (ssh_dir).mkdir(exist_ok=True)\n",
    "    keypair_name = f'aws-key-{name}'\n",
    "    filename = ssh_dir/f'{keypair_name}.pem'\n",
    "    if filename.exists():\n",
    "        print('Keypair exists')\n",
    "        return\n",
    "    keypair = ec2.create_key_pair(KeyName=keypair_name)\n",
    "    keypair_out = keypair.key_material\n",
    "    outfile = open(filename,'w')\n",
    "    outfile.write(keypair_out)\n",
    "    os.chmod(filename, 0o400)\n",
    "    print('Created keypair')"
   ]
  },
  {
   "cell_type": "code",
   "execution_count": 257,
   "metadata": {},
   "outputs": [],
   "source": [
    "# keypair = ec2.create_key_pair(KeyName='test-fast')"
   ]
  },
  {
   "cell_type": "code",
   "execution_count": 268,
   "metadata": {},
   "outputs": [
    {
     "data": {
      "text/plain": [
       "{'ResponseMetadata': {'HTTPHeaders': {'content-length': '227',\n",
       "   'content-type': 'text/xml;charset=UTF-8',\n",
       "   'date': 'Wed, 28 Mar 2018 18:54:54 GMT',\n",
       "   'server': 'AmazonEC2'},\n",
       "  'HTTPStatusCode': 200,\n",
       "  'RequestId': 'c01140cc-baab-4628-9601-7dca6fc23be6',\n",
       "  'RetryAttempts': 0}}"
      ]
     },
     "execution_count": 268,
     "metadata": {},
     "output_type": "execute_result"
    }
   ],
   "source": [
    "# ec2_client.delete_key_pair(KeyName='aws-key-test-fast')"
   ]
  },
  {
   "cell_type": "code",
   "execution_count": 277,
   "metadata": {
    "collapsed": true
   },
   "outputs": [],
   "source": [
    "sg = get_security_group(name, vpc_id)"
   ]
  },
  {
   "cell_type": "code",
   "execution_count": null,
   "metadata": {
    "collapsed": true
   },
   "outputs": [],
   "source": [
    "sg.authorize_ingress"
   ]
  },
  {
   "cell_type": "code",
   "execution_count": 280,
   "metadata": {},
   "outputs": [
    {
     "data": {
      "text/plain": [
       "{'ResponseMetadata': {'HTTPHeaders': {'content-type': 'text/xml;charset=UTF-8',\n",
       "   'date': 'Wed, 28 Mar 2018 18:59:37 GMT',\n",
       "   'server': 'AmazonEC2',\n",
       "   'transfer-encoding': 'chunked',\n",
       "   'vary': 'Accept-Encoding'},\n",
       "  'HTTPStatusCode': 200,\n",
       "  'RequestId': 'e508054f-a2d4-4aa1-a3a1-57a392e606ef',\n",
       "  'RetryAttempts': 0}}"
      ]
     },
     "execution_count": 280,
     "metadata": {},
     "output_type": "execute_result"
    }
   ],
   "source": [
    "sg.authorize_ingress(IpProtocol='tcp', FromPort=8887, ToPort=8887, CidrIp=cidr)"
   ]
  },
  {
   "cell_type": "code",
   "execution_count": 281,
   "metadata": {
    "collapsed": true
   },
   "outputs": [],
   "source": [
    "def create_security_group(name, vpc):\n",
    "    cidr = '0.0.0.0/0'\n",
    "    sg = vpc.create_security_group(GroupName=f'{name}-security-group-test', Description='SG for {name} machine')\n",
    "    # ssh\n",
    "    sg.authorize_ingress(IpProtocol='tcp', FromPort=22, ToPort=22, CidrIp=cidr)\n",
    "    # jupyter notebook\n",
    "    sg.authorize_ingress(IpProtocol='tcp', FromPort=8888, ToPort=8898, CidrIp=cidr)\n",
    "    return sg_id"
   ]
  },
  {
   "cell_type": "code",
   "execution_count": 321,
   "metadata": {
    "collapsed": true
   },
   "outputs": [],
   "source": [
    "def create_vpc(name):\n",
    "    cidr_block='10.0.0.0/28'\n",
    "    vpc = ec2.create_vpc(CidrBlock=cidr_block)\n",
    "    vpc.modify_attribute(EnableDnsSupport={'Value':True})\n",
    "    vpc.modify_attribute(EnableDnsHostnames={'Value':True})\n",
    "    vpc.create_tags(Tags=[{'Key':'Name','Value':name}])\n",
    "    \n",
    "    ig = ec2.create_internet_gateway()\n",
    "    ig.attach_to_vpc(VpcId=vpc.id)\n",
    "    ig.create_tags(Tags=[{'Key':'Name','Value':f'{name}-gateway'}])\n",
    "    \n",
    "    subnet = vpc.create_subnet(CidrBlock=cidr_block)\n",
    "    subnet.create_tags(Tags=[{'Key':'Name','Value':f'{name}-subnet'}])\n",
    "    # TODO: enable public ip?\n",
    "    # subnet.meta.client.modify_subnet_attribute(SubnetId=subnet.id, MapPublicIpOnLaunch={\"Value\": True})\n",
    "\n",
    "    rt = vpc.create_route_table()\n",
    "    rt.create_tags(Tags=[{'Key':'Name','Value':f'{name}-route-table'}])\n",
    "    rt.associate_with_subnet(SubnetId=subnet.id)\n",
    "    rt.create_route(DestinationCidrBlock='0.0.0.0/0', GatewayId=ig.id)\n",
    "    \n",
    "    \n",
    "    cidr = '0.0.0.0/0'\n",
    "    sg = vpc.create_security_group(GroupName=f'{name}-security-group-test', Description='SG for {name} machine')\n",
    "    # ssh\n",
    "    sg.authorize_ingress(IpProtocol='tcp', FromPort=22, ToPort=22, CidrIp=cidr)\n",
    "    # jupyter notebook\n",
    "    sg.authorize_ingress(IpProtocol='tcp', FromPort=8888, ToPort=8898, CidrIp=cidr)\n",
    "    \n",
    "    return vpc"
   ]
  },
  {
   "cell_type": "code",
   "execution_count": 323,
   "metadata": {},
   "outputs": [
    {
     "data": {
      "text/plain": [
       "ec2.Vpc(id='vpc-ccc888b5')"
      ]
     },
     "execution_count": 323,
     "metadata": {},
     "output_type": "execute_result"
    }
   ],
   "source": [
    "create_vpc('test-fast-ai')"
   ]
  },
  {
   "cell_type": "code",
   "execution_count": null,
   "metadata": {
    "collapsed": true
   },
   "outputs": [],
   "source": [
    "#!/bin/bash\n",
    "\n",
    "# settings\n",
    "export name=\"fast-ai\"\n",
    "\n",
    "export cidr=\"0.0.0.0/0\"\n",
    "export vpcTag=$name\n",
    "export sgTag=\"SG for fast.ai machine\"\n",
    "export subnetTag=\"$name-subnet\"\n",
    "\n",
    "hash aws 2>/dev/null\n",
    "if [ $? -ne 0 ]; then\n",
    "    echo >&2 \"'aws' command line tool required, but not installed.  Aborting.\"\n",
    "    exit 1\n",
    "fi\n",
    "\n",
    "if [ -z \"$(aws configure get aws_access_key_id)\" ]; then\n",
    "    echo \"AWS credentials not configured.  Aborting\"\n",
    "    exit 1\n",
    "fi\n",
    "\n",
    "export vpcId=$(aws ec2 create-vpc --cidr-block 10.0.0.0/28 --query 'Vpc.VpcId' --output text)\n",
    "aws ec2 create-tags --resources $vpcId --tags --tags Key=Name,Value=$name\n",
    "aws ec2 modify-vpc-attribute --vpc-id $vpcId --enable-dns-support \"{\\\"Value\\\":true}\"\n",
    "aws ec2 modify-vpc-attribute --vpc-id $vpcId --enable-dns-hostnames \"{\\\"Value\\\":true}\"\n",
    "\n",
    "export internetGatewayId=$(aws ec2 create-internet-gateway --query 'InternetGateway.InternetGatewayId' --output text)\n",
    "aws ec2 create-tags --resources $internetGatewayId --tags --tags Key=Name,Value=$name-gateway\n",
    "aws ec2 attach-internet-gateway --internet-gateway-id $internetGatewayId --vpc-id $vpcId\n",
    "\n",
    "export subnetId=$(aws ec2 create-subnet --vpc-id $vpcId --cidr-block 10.0.0.0/28 --query 'Subnet.SubnetId' --output text)\n",
    "# aws ec2 modify-subnet-attribute --subnet-id $subnetId --map-public-ip-on-launch // Public id needed?\n",
    "aws ec2 create-tags --resources $subnetId --tags --tags Key=Name,Value=$name-subnet\n",
    "\n",
    "export routeTableId=$(aws ec2 create-route-table --vpc-id $vpcId --query 'RouteTable.RouteTableId' --output text)\n",
    "aws ec2 create-tags --resources $routeTableId --tags --tags Key=Name,Value=$name-route-table\n",
    "export routeTableAssoc=$(aws ec2 associate-route-table --route-table-id $routeTableId --subnet-id $subnetId --output text)\n",
    "aws ec2 create-route --route-table-id $routeTableId --destination-cidr-block 0.0.0.0/0 --gateway-id $internetGatewayId\n",
    "\n",
    "export securityGroupId=$(aws ec2 create-security-group --group-name $name-security-group --description $sgTag --vpc-id $vpcId --query 'GroupId' --output text)\n",
    "# ssh\n",
    "aws ec2 authorize-security-group-ingress --group-id $securityGroupId --protocol tcp --port 22 --cidr $cidr\n",
    "# jupyter notebook\n",
    "aws ec2 authorize-security-group-ingress --group-id $securityGroupId --protocol tcp --port 8888-8898 --cidr $cidr\n",
    "\n",
    "if [ ! -d ~/.ssh ]\n",
    "then\n",
    "\tmkdir ~/.ssh\n",
    "fi\n",
    "\n",
    "if [ ! -f ~/.ssh/aws-key-$name.pem ]\n",
    "then\n",
    "\taws ec2 create-key-pair --key-name aws-key-$name --query 'KeyMaterial' --output text > ~/.ssh/aws-key-$name.pem\n",
    "\tchmod 400 ~/.ssh/aws-key-$name.pem\n",
    "fi"
   ]
  }
 ],
 "metadata": {
  "kernelspec": {
   "display_name": "Python 3",
   "language": "python",
   "name": "python3"
  },
  "language_info": {
   "codemirror_mode": {
    "name": "ipython",
    "version": 3
   },
   "file_extension": ".py",
   "mimetype": "text/x-python",
   "name": "python",
   "nbconvert_exporter": "python",
   "pygments_lexer": "ipython3",
   "version": "3.6.3"
  }
 },
 "nbformat": 4,
 "nbformat_minor": 2
}
