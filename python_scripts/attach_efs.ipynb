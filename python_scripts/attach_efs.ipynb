{
 "cells": [
  {
   "cell_type": "code",
   "execution_count": 9,
   "metadata": {
    "collapsed": true
   },
   "outputs": [],
   "source": [
    "%reload_ext autoreload\n",
    "%autoreload 2\n",
    "%matplotlib inline"
   ]
  },
  {
   "cell_type": "code",
   "execution_count": 10,
   "metadata": {
    "collapsed": true
   },
   "outputs": [],
   "source": [
    "from aws_setup import *"
   ]
  },
  {
   "cell_type": "code",
   "execution_count": 3,
   "metadata": {
    "collapsed": true
   },
   "outputs": [],
   "source": [
    "name='fast-ai'"
   ]
  },
  {
   "cell_type": "code",
   "execution_count": 4,
   "metadata": {},
   "outputs": [
    {
     "name": "stdout",
     "output_type": "stream",
     "text": [
      "Waiting on spot fullfillment...\n",
      "Fullfillment completed. InstanceId: i-0611c3faf48066b6b\n",
      "Rebooting...\n"
     ]
    },
    {
     "data": {
      "text/plain": [
       "ec2.Instance(id='i-0611c3faf48066b6b')"
      ]
     },
     "execution_count": 4,
     "metadata": {},
     "output_type": "execute_result"
    }
   ],
   "source": [
    "instance = create_spot_instance(name); instance"
   ]
  },
  {
   "cell_type": "code",
   "execution_count": 5,
   "metadata": {},
   "outputs": [
    {
     "data": {
      "text/plain": [
       "'35.167.196.233'"
      ]
     },
     "execution_count": 5,
     "metadata": {},
     "output_type": "execute_result"
    }
   ],
   "source": [
    "instance.public_ip_address"
   ]
  },
  {
   "cell_type": "code",
   "execution_count": 6,
   "metadata": {},
   "outputs": [],
   "source": [
    "def attach_volume(instance, volume_tag, device='/dev/xvdf'):\n",
    "    volumes = list(ec2.volumes.filter(Filters=[{'Name': 'tag-value', 'Values': [volume_tag]}]))\n",
    "    if not volumes: print('Could not find volume for tag:', volume_tag); return\n",
    "    instance.attach_volume(Device=device, VolumeId=volumes[0].id)\n",
    "    instance.reboot()\n",
    "    instance.wait_until_running()\n",
    "    return instance\n",
    "    \n",
    "# TODO: need to make sure ebs is formatted correctly"
   ]
  },
  {
   "cell_type": "code",
   "execution_count": 8,
   "metadata": {},
   "outputs": [
    {
     "data": {
      "text/plain": [
       "ec2.Instance(id='i-0611c3faf48066b6b')"
      ]
     },
     "execution_count": 8,
     "metadata": {},
     "output_type": "execute_result"
    }
   ],
   "source": [
    "attach_volume(instance, f'{name}-ebs-volume-test')"
   ]
  },
  {
   "cell_type": "code",
   "execution_count": 11,
   "metadata": {},
   "outputs": [
    {
     "data": {
      "text/plain": [
       "'ssh -i ~/.ssh/aws-key-fast-ai.pem ubuntu@35.167.196.233'"
      ]
     },
     "execution_count": 11,
     "metadata": {},
     "output_type": "execute_result"
    }
   ],
   "source": [
    "get_ssh_command(instance)"
   ]
  },
  {
   "cell_type": "code",
   "execution_count": null,
   "metadata": {
    "collapsed": true
   },
   "outputs": [],
   "source": [
    "instance.wait_until_running"
   ]
  },
  {
   "cell_type": "code",
   "execution_count": null,
   "metadata": {},
   "outputs": [],
   "source": [
    "instance.reboot()"
   ]
  },
  {
   "cell_type": "code",
   "execution_count": null,
   "metadata": {
    "collapsed": true
   },
   "outputs": [],
   "source": [
    "def create_volume(name, size=120, volume_type='gp2'):\n",
    "    tag_specs = [{\n",
    "        'Tags': [{\n",
    "            'Key': 'Name',\n",
    "            'Value': f'{name}-ebs-volume'\n",
    "        }]\n",
    "    }]\n",
    "    volume = ec2.create_volume(Size=size, VolumeType=volume_type, TagSpecifications=tag_specs)\n",
    "    "
   ]
  },
  {
   "cell_type": "markdown",
   "metadata": {},
   "source": [
    "### Creating and attaching EFS"
   ]
  },
  {
   "cell_type": "code",
   "execution_count": 14,
   "metadata": {},
   "outputs": [],
   "source": [
    "efsc = session.client('efs')"
   ]
  },
  {
   "cell_type": "code",
   "execution_count": null,
   "metadata": {
    "collapsed": true
   },
   "outputs": [],
   "source": [
    "get_vpc_ids()"
   ]
  },
  {
   "cell_type": "code",
   "execution_count": null,
   "metadata": {
    "collapsed": true
   },
   "outputs": [],
   "source": [
    "def create_efs(name):\n",
    "    vpc_id, sg_id, subnet_id = get_vpc_ids(name)\n",
    "    efsc = session.client('efs')\n",
    "    efs_response = efsc.create_file_system(CreationToken=f'{name}-efs', PerformanceMode='generalPurpose')\n",
    "    efs_id = efs_response['FileSystemId']\n",
    "    efsc.create_tags(FileSystemId=efs_id, Tags=[{'Key': 'Name', 'Value': f'{name}-efs'}])\n",
    "    \n",
    "    mount_target = efsc.create_mount_target(FileSystemId=efs_id,\n",
    "                                              SubnetId=subnet_id,\n",
    "                                              SecurityGroups=[sg_id])\n",
    "    return mount_target"
   ]
  },
  {
   "cell_type": "code",
   "execution_count": 16,
   "metadata": {},
   "outputs": [],
   "source": [
    "file_system = efsc.create_file_system(CreationToken=f'{name}-efs', PerformanceMode='generalPurpose')"
   ]
  },
  {
   "cell_type": "code",
   "execution_count": 27,
   "metadata": {},
   "outputs": [],
   "source": [
    "efs_id = file_system['FileSystemId']\n"
   ]
  },
  {
   "cell_type": "code",
   "execution_count": 20,
   "metadata": {},
   "outputs": [
    {
     "data": {
      "text/plain": [
       "{'ResponseMetadata': {'HTTPHeaders': {'content-type': 'application/json',\n",
       "   'date': 'Thu, 29 Mar 2018 05:50:50 GMT',\n",
       "   'x-amzn-requestid': '232ef638-3315-11e8-8bc6-65160ec0c332'},\n",
       "  'HTTPStatusCode': 204,\n",
       "  'RequestId': '232ef638-3315-11e8-8bc6-65160ec0c332',\n",
       "  'RetryAttempts': 0}}"
      ]
     },
     "execution_count": 20,
     "metadata": {},
     "output_type": "execute_result"
    }
   ],
   "source": [
    "efsc.create_tags(FileSystemId=efs_id, Tags=[{'Key': 'Name', 'Value': f'{name}-efs'}])"
   ]
  },
  {
   "cell_type": "code",
   "execution_count": 22,
   "metadata": {},
   "outputs": [
    {
     "data": {
      "text/plain": [
       "{'MountTargets': [],\n",
       " 'ResponseMetadata': {'HTTPHeaders': {'content-length': '51',\n",
       "   'content-type': 'application/json',\n",
       "   'date': 'Thu, 29 Mar 2018 05:52:01 GMT',\n",
       "   'x-amzn-requestid': '4d31f792-3315-11e8-bac7-050c3ff218d4'},\n",
       "  'HTTPStatusCode': 200,\n",
       "  'RequestId': '4d31f792-3315-11e8-bac7-050c3ff218d4',\n",
       "  'RetryAttempts': 0}}"
      ]
     },
     "execution_count": 22,
     "metadata": {},
     "output_type": "execute_result"
    }
   ],
   "source": [
    "efsc.describe_mount_targets(FileSystemId=efs_id)"
   ]
  },
  {
   "cell_type": "code",
   "execution_count": 24,
   "metadata": {},
   "outputs": [],
   "source": [
    "vpc_id, sg_id, subnet_id = get_vpc_ids(name)"
   ]
  },
  {
   "cell_type": "code",
   "execution_count": 28,
   "metadata": {},
   "outputs": [],
   "source": [
    "\n",
    "response = efsc.create_mount_target(FileSystemId=efs_id,\n",
    "                                          SubnetId=subnet_id,\n",
    "                                          SecurityGroups=[sg_id])"
   ]
  },
  {
   "cell_type": "code",
   "execution_count": 29,
   "metadata": {},
   "outputs": [
    {
     "data": {
      "text/plain": [
       "{'FileSystemId': 'fs-0ea233a7',\n",
       " 'IpAddress': '10.0.0.6',\n",
       " 'LifeCycleState': 'creating',\n",
       " 'MountTargetId': 'fsmt-e4148a4d',\n",
       " 'NetworkInterfaceId': 'eni-c2c9a4e5',\n",
       " 'OwnerId': '698042698196',\n",
       " 'ResponseMetadata': {'HTTPHeaders': {'content-length': '203',\n",
       "   'content-type': 'application/json',\n",
       "   'date': 'Thu, 29 Mar 2018 05:54:26 GMT',\n",
       "   'x-amzn-requestid': 'a30825cd-3315-11e8-bac7-050c3ff218d4'},\n",
       "  'HTTPStatusCode': 200,\n",
       "  'RequestId': 'a30825cd-3315-11e8-bac7-050c3ff218d4',\n",
       "  'RetryAttempts': 0},\n",
       " 'SubnetId': 'subnet-f056ff89'}"
      ]
     },
     "execution_count": 29,
     "metadata": {},
     "output_type": "execute_result"
    }
   ],
   "source": [
    "response"
   ]
  },
  {
   "cell_type": "code",
   "execution_count": 32,
   "metadata": {},
   "outputs": [
    {
     "data": {
      "text/plain": [
       "{'MountTargets': [{'FileSystemId': 'fs-0ea233a7',\n",
       "   'IpAddress': '10.0.0.6',\n",
       "   'LifeCycleState': 'available',\n",
       "   'MountTargetId': 'fsmt-e4148a4d',\n",
       "   'NetworkInterfaceId': 'eni-c2c9a4e5',\n",
       "   'OwnerId': '698042698196',\n",
       "   'SubnetId': 'subnet-f056ff89'}],\n",
       " 'ResponseMetadata': {'HTTPHeaders': {'content-length': '255',\n",
       "   'content-type': 'application/json',\n",
       "   'date': 'Thu, 29 Mar 2018 06:00:06 GMT',\n",
       "   'x-amzn-requestid': '6e918eab-3316-11e8-b37c-e96e22745ef1'},\n",
       "  'HTTPStatusCode': 200,\n",
       "  'RequestId': '6e918eab-3316-11e8-b37c-e96e22745ef1',\n",
       "  'RetryAttempts': 0}}"
      ]
     },
     "execution_count": 32,
     "metadata": {},
     "output_type": "execute_result"
    }
   ],
   "source": [
    "efsc.describe_mount_targets(FileSystemId=efs_id)"
   ]
  },
  {
   "cell_type": "code",
   "execution_count": null,
   "metadata": {
    "collapsed": true
   },
   "outputs": [],
   "source": [
    "response = efs_client.describe_file_systems()"
   ]
  }
 ],
 "metadata": {
  "kernelspec": {
   "display_name": "Python 3",
   "language": "python",
   "name": "python3"
  },
  "language_info": {
   "codemirror_mode": {
    "name": "ipython",
    "version": 3
   },
   "file_extension": ".py",
   "mimetype": "text/x-python",
   "name": "python",
   "nbconvert_exporter": "python",
   "pygments_lexer": "ipython3",
   "version": "3.6.3"
  }
 },
 "nbformat": 4,
 "nbformat_minor": 2
}
