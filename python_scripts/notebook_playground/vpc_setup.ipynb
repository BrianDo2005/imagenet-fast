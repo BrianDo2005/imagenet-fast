{
 "cells": [
  {
   "cell_type": "code",
   "execution_count": 101,
   "metadata": {
    "collapsed": true
   },
   "outputs": [],
   "source": [
    "import argparse\n",
    "import boto3\n",
    "import paramiko\n",
    "import os, sys, time\n",
    "from pathlib import Path"
   ]
  },
  {
   "cell_type": "code",
   "execution_count": null,
   "metadata": {
    "collapsed": true
   },
   "outputs": [],
   "source": [
    "profile = [\n",
    "    'region': \n",
    "]"
   ]
  },
  {
   "cell_type": "code",
   "execution_count": 5,
   "metadata": {
    "collapsed": true
   },
   "outputs": [],
   "source": [
    "session = boto3.Session()"
   ]
  },
  {
   "cell_type": "code",
   "execution_count": null,
   "metadata": {
    "collapsed": true
   },
   "outputs": [],
   "source": []
  },
  {
   "cell_type": "code",
   "execution_count": 170,
   "metadata": {
    "collapsed": true
   },
   "outputs": [],
   "source": [
    "ec2 = session.resource('ec2')"
   ]
  },
  {
   "cell_type": "code",
   "execution_count": 7,
   "metadata": {
    "collapsed": true
   },
   "outputs": [],
   "source": [
    "# ec2_client = session.client('ec2')"
   ]
  },
  {
   "cell_type": "code",
   "execution_count": 270,
   "metadata": {
    "collapsed": true
   },
   "outputs": [],
   "source": [
    "def get_vpc(name):\n",
    "    vpcs = list(ec2.vpcs.filter(Filters=[{'Name': 'tag-value', 'Values': [name]}]))\n",
    "    return vpcs[0] if vpcs else None"
   ]
  },
  {
   "cell_type": "code",
   "execution_count": 308,
   "metadata": {
    "collapsed": true
   },
   "outputs": [],
   "source": [
    "def get_vpc_ids(name):\n",
    "    vpc = get_vpc(name)\n",
    "    if vpc is None: return None\n",
    "    sg = list(vpc.security_groups.all())[0]\n",
    "    subnet = list(vpc.subnets.all())[0]\n",
    "    return vpc.id, sg.id, subnet.id"
   ]
  },
  {
   "cell_type": "code",
   "execution_count": 309,
   "metadata": {
    "collapsed": true
   },
   "outputs": [],
   "source": [
    "name='fast-ai'"
   ]
  },
  {
   "cell_type": "code",
   "execution_count": 310,
   "metadata": {},
   "outputs": [
    {
     "data": {
      "text/plain": [
       "('vpc-6e6b2a17', 'sg-230ccd5d', 'subnet-f056ff89')"
      ]
     },
     "execution_count": 310,
     "metadata": {},
     "output_type": "execute_result"
    }
   ],
   "source": [
    "get_vpc_ids(name)"
   ]
  },
  {
   "cell_type": "markdown",
   "metadata": {},
   "source": [
    "### Creating a vpc"
   ]
  },
  {
   "cell_type": "code",
   "execution_count": null,
   "metadata": {
    "collapsed": true
   },
   "outputs": [],
   "source": [
    "ec2.create_key_pair()"
   ]
  },
  {
   "cell_type": "code",
   "execution_count": 263,
   "metadata": {
    "collapsed": true
   },
   "outputs": [],
   "source": [
    "def create_ec2_keypair(name):\n",
    "    ssh_dir = Path.home()/'.ssh'\n",
    "    (ssh_dir).mkdir(exist_ok=True)\n",
    "    keypair_name = f'aws-key-{name}'\n",
    "    filename = ssh_dir/f'{keypair_name}.pem'\n",
    "    if filename.exists():\n",
    "        print('Keypair exists')\n",
    "        return\n",
    "    keypair = ec2.create_key_pair(KeyName=keypair_name)\n",
    "    keypair_out = keypair.key_material\n",
    "    outfile = open(filename,'w')\n",
    "    outfile.write(keypair_out)\n",
    "    os.chmod(filename, 0o400)\n",
    "    print('Created keypair')"
   ]
  },
  {
   "cell_type": "code",
   "execution_count": 257,
   "metadata": {
    "collapsed": true
   },
   "outputs": [],
   "source": [
    "# keypair = ec2.create_key_pair(KeyName='test-fast')"
   ]
  },
  {
   "cell_type": "code",
   "execution_count": 268,
   "metadata": {},
   "outputs": [
    {
     "data": {
      "text/plain": [
       "{'ResponseMetadata': {'HTTPHeaders': {'content-length': '227',\n",
       "   'content-type': 'text/xml;charset=UTF-8',\n",
       "   'date': 'Wed, 28 Mar 2018 18:54:54 GMT',\n",
       "   'server': 'AmazonEC2'},\n",
       "  'HTTPStatusCode': 200,\n",
       "  'RequestId': 'c01140cc-baab-4628-9601-7dca6fc23be6',\n",
       "  'RetryAttempts': 0}}"
      ]
     },
     "execution_count": 268,
     "metadata": {},
     "output_type": "execute_result"
    }
   ],
   "source": [
    "# ec2_client.delete_key_pair(KeyName='aws-key-test-fast')"
   ]
  },
  {
   "cell_type": "code",
   "execution_count": 277,
   "metadata": {
    "collapsed": true
   },
   "outputs": [],
   "source": [
    "sg = get_security_group(name, vpc_id)"
   ]
  },
  {
   "cell_type": "code",
   "execution_count": null,
   "metadata": {
    "collapsed": true
   },
   "outputs": [],
   "source": [
    "sg.authorize_ingress"
   ]
  },
  {
   "cell_type": "code",
   "execution_count": 280,
   "metadata": {},
   "outputs": [
    {
     "data": {
      "text/plain": [
       "{'ResponseMetadata': {'HTTPHeaders': {'content-type': 'text/xml;charset=UTF-8',\n",
       "   'date': 'Wed, 28 Mar 2018 18:59:37 GMT',\n",
       "   'server': 'AmazonEC2',\n",
       "   'transfer-encoding': 'chunked',\n",
       "   'vary': 'Accept-Encoding'},\n",
       "  'HTTPStatusCode': 200,\n",
       "  'RequestId': 'e508054f-a2d4-4aa1-a3a1-57a392e606ef',\n",
       "  'RetryAttempts': 0}}"
      ]
     },
     "execution_count": 280,
     "metadata": {},
     "output_type": "execute_result"
    }
   ],
   "source": [
    "sg.authorize_ingress(IpProtocol='tcp', FromPort=8887, ToPort=8887, CidrIp=cidr)"
   ]
  },
  {
   "cell_type": "code",
   "execution_count": 336,
   "metadata": {},
   "outputs": [],
   "source": [
    "s = list(ec2.security_groups.all())[-1]"
   ]
  },
  {
   "cell_type": "code",
   "execution_count": 337,
   "metadata": {},
   "outputs": [
    {
     "data": {
      "text/plain": [
       "'fast-ai-security-group'"
      ]
     },
     "execution_count": 337,
     "metadata": {},
     "output_type": "execute_result"
    }
   ],
   "source": [
    "s.group_name"
   ]
  },
  {
   "cell_type": "code",
   "execution_count": 343,
   "metadata": {},
   "outputs": [
    {
     "data": {
      "text/plain": [
       "[{'FromPort': 8888,\n",
       "  'IpProtocol': 'tcp',\n",
       "  'IpRanges': [{'CidrIp': '0.0.0.0/0'}],\n",
       "  'Ipv6Ranges': [],\n",
       "  'PrefixListIds': [],\n",
       "  'ToPort': 8898,\n",
       "  'UserIdGroupPairs': []},\n",
       " {'FromPort': 22,\n",
       "  'IpProtocol': 'tcp',\n",
       "  'IpRanges': [{'CidrIp': '0.0.0.0/0'}],\n",
       "  'Ipv6Ranges': [],\n",
       "  'PrefixListIds': [],\n",
       "  'ToPort': 22,\n",
       "  'UserIdGroupPairs': []},\n",
       " {'FromPort': 8887,\n",
       "  'IpProtocol': 'tcp',\n",
       "  'IpRanges': [{'CidrIp': '0.0.0.0/0'}],\n",
       "  'Ipv6Ranges': [],\n",
       "  'PrefixListIds': [],\n",
       "  'ToPort': 8887,\n",
       "  'UserIdGroupPairs': []},\n",
       " {'FromPort': 8886,\n",
       "  'IpProtocol': 'tcp',\n",
       "  'IpRanges': [{'CidrIp': '0.0.0.0/0'}],\n",
       "  'Ipv6Ranges': [],\n",
       "  'PrefixListIds': [],\n",
       "  'ToPort': 8886,\n",
       "  'UserIdGroupPairs': []}]"
      ]
     },
     "execution_count": 343,
     "metadata": {},
     "output_type": "execute_result"
    }
   ],
   "source": [
    "s.ip_permissions"
   ]
  },
  {
   "cell_type": "code",
   "execution_count": 347,
   "metadata": {},
   "outputs": [
    {
     "data": {
      "text/plain": [
       "'sg-f60fca88'"
      ]
     },
     "execution_count": 347,
     "metadata": {},
     "output_type": "execute_result"
    }
   ],
   "source": [
    "s.id"
   ]
  },
  {
   "cell_type": "code",
   "execution_count": 346,
   "metadata": {},
   "outputs": [
    {
     "ename": "ClientError",
     "evalue": "An error occurred (InvalidParameterCombination) when calling the AuthorizeSecurityGroupIngress operation: The parameter 'SourceSecurityGroupOwnerId' may not be used in combination with 'ToPort'",
     "output_type": "error",
     "traceback": [
      "\u001b[0;31m---------------------------------------------------------------------------\u001b[0m",
      "\u001b[0;31mClientError\u001b[0m                               Traceback (most recent call last)",
      "\u001b[0;32m<ipython-input-346-5c8a1d06a6f5>\u001b[0m in \u001b[0;36m<module>\u001b[0;34m()\u001b[0m\n\u001b[0;32m----> 1\u001b[0;31m \u001b[0mec2_client\u001b[0m\u001b[0;34m.\u001b[0m\u001b[0mauthorize_security_group_ingress\u001b[0m\u001b[0;34m(\u001b[0m\u001b[0mGroupId\u001b[0m\u001b[0;34m=\u001b[0m\u001b[0ms\u001b[0m\u001b[0;34m.\u001b[0m\u001b[0mid\u001b[0m\u001b[0;34m,\u001b[0m \u001b[0mIpProtocol\u001b[0m\u001b[0;34m=\u001b[0m\u001b[0;34m'tcp'\u001b[0m\u001b[0;34m,\u001b[0m \u001b[0mToPort\u001b[0m\u001b[0;34m=\u001b[0m\u001b[0;36m2049\u001b[0m\u001b[0;34m,\u001b[0m \u001b[0mSourceSecurityGroupOwnerId\u001b[0m\u001b[0;34m=\u001b[0m\u001b[0ms\u001b[0m\u001b[0;34m.\u001b[0m\u001b[0mid\u001b[0m\u001b[0;34m)\u001b[0m\u001b[0;34m\u001b[0m\u001b[0m\n\u001b[0m",
      "\u001b[0;32m~/.local/lib/python3.6/site-packages/botocore/client.py\u001b[0m in \u001b[0;36m_api_call\u001b[0;34m(self, *args, **kwargs)\u001b[0m\n\u001b[1;32m    312\u001b[0m                     \"%s() only accepts keyword arguments.\" % py_operation_name)\n\u001b[1;32m    313\u001b[0m             \u001b[0;31m# The \"self\" in this scope is referring to the BaseClient.\u001b[0m\u001b[0;34m\u001b[0m\u001b[0;34m\u001b[0m\u001b[0m\n\u001b[0;32m--> 314\u001b[0;31m             \u001b[0;32mreturn\u001b[0m \u001b[0mself\u001b[0m\u001b[0;34m.\u001b[0m\u001b[0m_make_api_call\u001b[0m\u001b[0;34m(\u001b[0m\u001b[0moperation_name\u001b[0m\u001b[0;34m,\u001b[0m \u001b[0mkwargs\u001b[0m\u001b[0;34m)\u001b[0m\u001b[0;34m\u001b[0m\u001b[0m\n\u001b[0m\u001b[1;32m    315\u001b[0m \u001b[0;34m\u001b[0m\u001b[0m\n\u001b[1;32m    316\u001b[0m         \u001b[0m_api_call\u001b[0m\u001b[0;34m.\u001b[0m\u001b[0m__name__\u001b[0m \u001b[0;34m=\u001b[0m \u001b[0mstr\u001b[0m\u001b[0;34m(\u001b[0m\u001b[0mpy_operation_name\u001b[0m\u001b[0;34m)\u001b[0m\u001b[0;34m\u001b[0m\u001b[0m\n",
      "\u001b[0;32m~/.local/lib/python3.6/site-packages/botocore/client.py\u001b[0m in \u001b[0;36m_make_api_call\u001b[0;34m(self, operation_name, api_params)\u001b[0m\n\u001b[1;32m    610\u001b[0m             \u001b[0merror_code\u001b[0m \u001b[0;34m=\u001b[0m \u001b[0mparsed_response\u001b[0m\u001b[0;34m.\u001b[0m\u001b[0mget\u001b[0m\u001b[0;34m(\u001b[0m\u001b[0;34m\"Error\"\u001b[0m\u001b[0;34m,\u001b[0m \u001b[0;34m{\u001b[0m\u001b[0;34m}\u001b[0m\u001b[0;34m)\u001b[0m\u001b[0;34m.\u001b[0m\u001b[0mget\u001b[0m\u001b[0;34m(\u001b[0m\u001b[0;34m\"Code\"\u001b[0m\u001b[0;34m)\u001b[0m\u001b[0;34m\u001b[0m\u001b[0m\n\u001b[1;32m    611\u001b[0m             \u001b[0merror_class\u001b[0m \u001b[0;34m=\u001b[0m \u001b[0mself\u001b[0m\u001b[0;34m.\u001b[0m\u001b[0mexceptions\u001b[0m\u001b[0;34m.\u001b[0m\u001b[0mfrom_code\u001b[0m\u001b[0;34m(\u001b[0m\u001b[0merror_code\u001b[0m\u001b[0;34m)\u001b[0m\u001b[0;34m\u001b[0m\u001b[0m\n\u001b[0;32m--> 612\u001b[0;31m             \u001b[0;32mraise\u001b[0m \u001b[0merror_class\u001b[0m\u001b[0;34m(\u001b[0m\u001b[0mparsed_response\u001b[0m\u001b[0;34m,\u001b[0m \u001b[0moperation_name\u001b[0m\u001b[0;34m)\u001b[0m\u001b[0;34m\u001b[0m\u001b[0m\n\u001b[0m\u001b[1;32m    613\u001b[0m         \u001b[0;32melse\u001b[0m\u001b[0;34m:\u001b[0m\u001b[0;34m\u001b[0m\u001b[0m\n\u001b[1;32m    614\u001b[0m             \u001b[0;32mreturn\u001b[0m \u001b[0mparsed_response\u001b[0m\u001b[0;34m\u001b[0m\u001b[0m\n",
      "\u001b[0;31mClientError\u001b[0m: An error occurred (InvalidParameterCombination) when calling the AuthorizeSecurityGroupIngress operation: The parameter 'SourceSecurityGroupOwnerId' may not be used in combination with 'ToPort'"
     ]
    }
   ],
   "source": [
    "ec2_client.authorize_security_group_ingress(GroupId=s.id, IpProtocol='tcp', ToPort=2049)"
   ]
  },
  {
   "cell_type": "code",
   "execution_count": 355,
   "metadata": {
    "collapsed": true
   },
   "outputs": [],
   "source": [
    "IpPermissions=[{\n",
    "    'FromPort': 2049,\n",
    "    'ToPort': 2049,\n",
    "    'IpProtocol': 'tcp',\n",
    "    'UserIdGroupPairs': [{ 'GroupId': s.id }],\n",
    "}]"
   ]
  },
  {
   "cell_type": "code",
   "execution_count": 356,
   "metadata": {},
   "outputs": [
    {
     "data": {
      "text/plain": [
       "{'ResponseMetadata': {'HTTPHeaders': {'content-type': 'text/xml;charset=UTF-8',\n",
       "   'date': 'Thu, 29 Mar 2018 06:36:38 GMT',\n",
       "   'server': 'AmazonEC2',\n",
       "   'transfer-encoding': 'chunked',\n",
       "   'vary': 'Accept-Encoding'},\n",
       "  'HTTPStatusCode': 200,\n",
       "  'RequestId': '70bffc6c-b1d6-443d-8461-50343ae49505',\n",
       "  'RetryAttempts': 0}}"
      ]
     },
     "execution_count": 356,
     "metadata": {},
     "output_type": "execute_result"
    }
   ],
   "source": [
    "s.authorize_ingress(IpPermissions=IpPermissions)"
   ]
  },
  {
   "cell_type": "code",
   "execution_count": 350,
   "metadata": {},
   "outputs": [
    {
     "ename": "ClientError",
     "evalue": "An error occurred (InvalidParameterValue) when calling the AuthorizeSecurityGroupIngress operation: CIDR block sg-f60fca88 is malformed",
     "output_type": "error",
     "traceback": [
      "\u001b[0;31m---------------------------------------------------------------------------\u001b[0m",
      "\u001b[0;31mClientError\u001b[0m                               Traceback (most recent call last)",
      "\u001b[0;32m<ipython-input-350-bf19d5b34aec>\u001b[0m in \u001b[0;36m<module>\u001b[0;34m()\u001b[0m\n\u001b[0;32m----> 1\u001b[0;31m \u001b[0ms\u001b[0m\u001b[0;34m.\u001b[0m\u001b[0mauthorize_ingress\u001b[0m\u001b[0;34m(\u001b[0m\u001b[0mIpProtocol\u001b[0m\u001b[0;34m=\u001b[0m\u001b[0;34m'tcp'\u001b[0m\u001b[0;34m,\u001b[0m \u001b[0mFromPort\u001b[0m\u001b[0;34m=\u001b[0m\u001b[0;36m2049\u001b[0m\u001b[0;34m,\u001b[0m \u001b[0mToPort\u001b[0m\u001b[0;34m=\u001b[0m\u001b[0;36m2049\u001b[0m\u001b[0;34m,\u001b[0m \u001b[0mCidrIp\u001b[0m\u001b[0;34m=\u001b[0m\u001b[0ms\u001b[0m\u001b[0;34m.\u001b[0m\u001b[0mid\u001b[0m\u001b[0;34m)\u001b[0m\u001b[0;34m\u001b[0m\u001b[0m\n\u001b[0m",
      "\u001b[0;32m~/miniconda3/envs/imagenet/lib/python3.6/site-packages/boto3/resources/factory.py\u001b[0m in \u001b[0;36mdo_action\u001b[0;34m(self, *args, **kwargs)\u001b[0m\n\u001b[1;32m    518\u001b[0m             \u001b[0;31m# instance via ``self``.\u001b[0m\u001b[0;34m\u001b[0m\u001b[0;34m\u001b[0m\u001b[0m\n\u001b[1;32m    519\u001b[0m             \u001b[0;32mdef\u001b[0m \u001b[0mdo_action\u001b[0m\u001b[0;34m(\u001b[0m\u001b[0mself\u001b[0m\u001b[0;34m,\u001b[0m \u001b[0;34m*\u001b[0m\u001b[0margs\u001b[0m\u001b[0;34m,\u001b[0m \u001b[0;34m**\u001b[0m\u001b[0mkwargs\u001b[0m\u001b[0;34m)\u001b[0m\u001b[0;34m:\u001b[0m\u001b[0;34m\u001b[0m\u001b[0m\n\u001b[0;32m--> 520\u001b[0;31m                 \u001b[0mresponse\u001b[0m \u001b[0;34m=\u001b[0m \u001b[0maction\u001b[0m\u001b[0;34m(\u001b[0m\u001b[0mself\u001b[0m\u001b[0;34m,\u001b[0m \u001b[0;34m*\u001b[0m\u001b[0margs\u001b[0m\u001b[0;34m,\u001b[0m \u001b[0;34m**\u001b[0m\u001b[0mkwargs\u001b[0m\u001b[0;34m)\u001b[0m\u001b[0;34m\u001b[0m\u001b[0m\n\u001b[0m\u001b[1;32m    521\u001b[0m \u001b[0;34m\u001b[0m\u001b[0m\n\u001b[1;32m    522\u001b[0m                 \u001b[0;32mif\u001b[0m \u001b[0mhasattr\u001b[0m\u001b[0;34m(\u001b[0m\u001b[0mself\u001b[0m\u001b[0;34m,\u001b[0m \u001b[0;34m'load'\u001b[0m\u001b[0;34m)\u001b[0m\u001b[0;34m:\u001b[0m\u001b[0;34m\u001b[0m\u001b[0m\n",
      "\u001b[0;32m~/miniconda3/envs/imagenet/lib/python3.6/site-packages/boto3/resources/action.py\u001b[0m in \u001b[0;36m__call__\u001b[0;34m(self, parent, *args, **kwargs)\u001b[0m\n\u001b[1;32m     81\u001b[0m                     operation_name, params)\n\u001b[1;32m     82\u001b[0m \u001b[0;34m\u001b[0m\u001b[0m\n\u001b[0;32m---> 83\u001b[0;31m         \u001b[0mresponse\u001b[0m \u001b[0;34m=\u001b[0m \u001b[0mgetattr\u001b[0m\u001b[0;34m(\u001b[0m\u001b[0mparent\u001b[0m\u001b[0;34m.\u001b[0m\u001b[0mmeta\u001b[0m\u001b[0;34m.\u001b[0m\u001b[0mclient\u001b[0m\u001b[0;34m,\u001b[0m \u001b[0moperation_name\u001b[0m\u001b[0;34m)\u001b[0m\u001b[0;34m(\u001b[0m\u001b[0;34m**\u001b[0m\u001b[0mparams\u001b[0m\u001b[0;34m)\u001b[0m\u001b[0;34m\u001b[0m\u001b[0m\n\u001b[0m\u001b[1;32m     84\u001b[0m \u001b[0;34m\u001b[0m\u001b[0m\n\u001b[1;32m     85\u001b[0m         \u001b[0mlogger\u001b[0m\u001b[0;34m.\u001b[0m\u001b[0mdebug\u001b[0m\u001b[0;34m(\u001b[0m\u001b[0;34m'Response: %r'\u001b[0m\u001b[0;34m,\u001b[0m \u001b[0mresponse\u001b[0m\u001b[0;34m)\u001b[0m\u001b[0;34m\u001b[0m\u001b[0m\n",
      "\u001b[0;32m~/.local/lib/python3.6/site-packages/botocore/client.py\u001b[0m in \u001b[0;36m_api_call\u001b[0;34m(self, *args, **kwargs)\u001b[0m\n\u001b[1;32m    312\u001b[0m                     \"%s() only accepts keyword arguments.\" % py_operation_name)\n\u001b[1;32m    313\u001b[0m             \u001b[0;31m# The \"self\" in this scope is referring to the BaseClient.\u001b[0m\u001b[0;34m\u001b[0m\u001b[0;34m\u001b[0m\u001b[0m\n\u001b[0;32m--> 314\u001b[0;31m             \u001b[0;32mreturn\u001b[0m \u001b[0mself\u001b[0m\u001b[0;34m.\u001b[0m\u001b[0m_make_api_call\u001b[0m\u001b[0;34m(\u001b[0m\u001b[0moperation_name\u001b[0m\u001b[0;34m,\u001b[0m \u001b[0mkwargs\u001b[0m\u001b[0;34m)\u001b[0m\u001b[0;34m\u001b[0m\u001b[0m\n\u001b[0m\u001b[1;32m    315\u001b[0m \u001b[0;34m\u001b[0m\u001b[0m\n\u001b[1;32m    316\u001b[0m         \u001b[0m_api_call\u001b[0m\u001b[0;34m.\u001b[0m\u001b[0m__name__\u001b[0m \u001b[0;34m=\u001b[0m \u001b[0mstr\u001b[0m\u001b[0;34m(\u001b[0m\u001b[0mpy_operation_name\u001b[0m\u001b[0;34m)\u001b[0m\u001b[0;34m\u001b[0m\u001b[0m\n",
      "\u001b[0;32m~/.local/lib/python3.6/site-packages/botocore/client.py\u001b[0m in \u001b[0;36m_make_api_call\u001b[0;34m(self, operation_name, api_params)\u001b[0m\n\u001b[1;32m    610\u001b[0m             \u001b[0merror_code\u001b[0m \u001b[0;34m=\u001b[0m \u001b[0mparsed_response\u001b[0m\u001b[0;34m.\u001b[0m\u001b[0mget\u001b[0m\u001b[0;34m(\u001b[0m\u001b[0;34m\"Error\"\u001b[0m\u001b[0;34m,\u001b[0m \u001b[0;34m{\u001b[0m\u001b[0;34m}\u001b[0m\u001b[0;34m)\u001b[0m\u001b[0;34m.\u001b[0m\u001b[0mget\u001b[0m\u001b[0;34m(\u001b[0m\u001b[0;34m\"Code\"\u001b[0m\u001b[0;34m)\u001b[0m\u001b[0;34m\u001b[0m\u001b[0m\n\u001b[1;32m    611\u001b[0m             \u001b[0merror_class\u001b[0m \u001b[0;34m=\u001b[0m \u001b[0mself\u001b[0m\u001b[0;34m.\u001b[0m\u001b[0mexceptions\u001b[0m\u001b[0;34m.\u001b[0m\u001b[0mfrom_code\u001b[0m\u001b[0;34m(\u001b[0m\u001b[0merror_code\u001b[0m\u001b[0;34m)\u001b[0m\u001b[0;34m\u001b[0m\u001b[0m\n\u001b[0;32m--> 612\u001b[0;31m             \u001b[0;32mraise\u001b[0m \u001b[0merror_class\u001b[0m\u001b[0;34m(\u001b[0m\u001b[0mparsed_response\u001b[0m\u001b[0;34m,\u001b[0m \u001b[0moperation_name\u001b[0m\u001b[0;34m)\u001b[0m\u001b[0;34m\u001b[0m\u001b[0m\n\u001b[0m\u001b[1;32m    613\u001b[0m         \u001b[0;32melse\u001b[0m\u001b[0;34m:\u001b[0m\u001b[0;34m\u001b[0m\u001b[0m\n\u001b[1;32m    614\u001b[0m             \u001b[0;32mreturn\u001b[0m \u001b[0mparsed_response\u001b[0m\u001b[0;34m\u001b[0m\u001b[0m\n",
      "\u001b[0;31mClientError\u001b[0m: An error occurred (InvalidParameterValue) when calling the AuthorizeSecurityGroupIngress operation: CIDR block sg-f60fca88 is malformed"
     ]
    }
   ],
   "source": [
    "s.authorize_ingress(IpProtocol='tcp', FromPort=2049, ToPort=2049, CidrIp=s.id)"
   ]
  },
  {
   "cell_type": "code",
   "execution_count": 342,
   "metadata": {},
   "outputs": [
    {
     "data": {
      "text/plain": [
       "{'ResponseMetadata': {'HTTPHeaders': {'content-type': 'text/xml;charset=UTF-8',\n",
       "   'date': 'Thu, 29 Mar 2018 06:20:55 GMT',\n",
       "   'server': 'AmazonEC2',\n",
       "   'transfer-encoding': 'chunked',\n",
       "   'vary': 'Accept-Encoding'},\n",
       "  'HTTPStatusCode': 200,\n",
       "  'RequestId': '455f83e7-4cc1-4253-8411-9cecf93764a1',\n",
       "  'RetryAttempts': 0}}"
      ]
     },
     "execution_count": 342,
     "metadata": {},
     "output_type": "execute_result"
    }
   ],
   "source": [
    "s.authorize_ingress(IpProtocol='tcp', FromPort=8886, ToPort=8886, CidrIp=cidr)"
   ]
  },
  {
   "cell_type": "code",
   "execution_count": 281,
   "metadata": {
    "collapsed": true
   },
   "outputs": [],
   "source": [
    "def create_security_group(name, vpc):\n",
    "    cidr = '0.0.0.0/0'\n",
    "    sg = vpc.create_security_group(GroupName=f'{name}-security-group-test', Description='SG for {name} machine')\n",
    "    # ssh\n",
    "    sg.authorize_ingress(IpProtocol='tcp', FromPort=22, ToPort=22, CidrIp=cidr)\n",
    "    # jupyter notebook\n",
    "    sg.authorize_ingress(IpProtocol='tcp', FromPort=8888, ToPort=8898, CidrIp=cidr)\n",
    "    # efs\n",
    "    sg.authorize_ingress(IpProtocol='tcp', )\n",
    "    return sg_id"
   ]
  },
  {
   "cell_type": "code",
   "execution_count": 321,
   "metadata": {
    "collapsed": true
   },
   "outputs": [],
   "source": [
    "def create_vpc(name):\n",
    "    cidr_block='10.0.0.0/28'\n",
    "    vpc = ec2.create_vpc(CidrBlock=cidr_block)\n",
    "    vpc.modify_attribute(EnableDnsSupport={'Value':True})\n",
    "    vpc.modify_attribute(EnableDnsHostnames={'Value':True})\n",
    "    vpc.create_tags(Tags=[{'Key':'Name','Value':name}])\n",
    "    \n",
    "    ig = ec2.create_internet_gateway()\n",
    "    ig.attach_to_vpc(VpcId=vpc.id)\n",
    "    ig.create_tags(Tags=[{'Key':'Name','Value':f'{name}-gateway'}])\n",
    "    \n",
    "    subnet = vpc.create_subnet(CidrBlock=cidr_block)\n",
    "    subnet.create_tags(Tags=[{'Key':'Name','Value':f'{name}-subnet'}])\n",
    "    # TODO: enable public ip?\n",
    "    # subnet.meta.client.modify_subnet_attribute(SubnetId=subnet.id, MapPublicIpOnLaunch={\"Value\": True})\n",
    "\n",
    "    rt = vpc.create_route_table()\n",
    "    rt.create_tags(Tags=[{'Key':'Name','Value':f'{name}-route-table'}])\n",
    "    rt.associate_with_subnet(SubnetId=subnet.id)\n",
    "    rt.create_route(DestinationCidrBlock='0.0.0.0/0', GatewayId=ig.id)\n",
    "    \n",
    "    \n",
    "    cidr = '0.0.0.0/0'\n",
    "    sg = vpc.create_security_group(GroupName=f'{name}-security-group-test', Description='SG for {name} machine')\n",
    "    # ssh\n",
    "    sg.authorize_ingress(IpProtocol='tcp', FromPort=22, ToPort=22, CidrIp=cidr)\n",
    "    # jupyter notebook\n",
    "    sg.authorize_ingress(IpProtocol='tcp', FromPort=8888, ToPort=8898, CidrIp=cidr)\n",
    "    \n",
    "    return vpc"
   ]
  },
  {
   "cell_type": "code",
   "execution_count": 323,
   "metadata": {},
   "outputs": [
    {
     "data": {
      "text/plain": [
       "ec2.Vpc(id='vpc-ccc888b5')"
      ]
     },
     "execution_count": 323,
     "metadata": {},
     "output_type": "execute_result"
    }
   ],
   "source": [
    "create_vpc('test-fast-ai')"
   ]
  },
  {
   "cell_type": "code",
   "execution_count": null,
   "metadata": {
    "collapsed": true
   },
   "outputs": [],
   "source": [
    "#!/bin/bash\n",
    "\n",
    "# settings\n",
    "export name=\"fast-ai\"\n",
    "\n",
    "export cidr=\"0.0.0.0/0\"\n",
    "export vpcTag=$name\n",
    "export sgTag=\"SG for fast.ai machine\"\n",
    "export subnetTag=\"$name-subnet\"\n",
    "\n",
    "hash aws 2>/dev/null\n",
    "if [ $? -ne 0 ]; then\n",
    "    echo >&2 \"'aws' command line tool required, but not installed.  Aborting.\"\n",
    "    exit 1\n",
    "fi\n",
    "\n",
    "if [ -z \"$(aws configure get aws_access_key_id)\" ]; then\n",
    "    echo \"AWS credentials not configured.  Aborting\"\n",
    "    exit 1\n",
    "fi\n",
    "\n",
    "export vpcId=$(aws ec2 create-vpc --cidr-block 10.0.0.0/28 --query 'Vpc.VpcId' --output text)\n",
    "aws ec2 create-tags --resources $vpcId --tags --tags Key=Name,Value=$name\n",
    "aws ec2 modify-vpc-attribute --vpc-id $vpcId --enable-dns-support \"{\\\"Value\\\":true}\"\n",
    "aws ec2 modify-vpc-attribute --vpc-id $vpcId --enable-dns-hostnames \"{\\\"Value\\\":true}\"\n",
    "\n",
    "export internetGatewayId=$(aws ec2 create-internet-gateway --query 'InternetGateway.InternetGatewayId' --output text)\n",
    "aws ec2 create-tags --resources $internetGatewayId --tags --tags Key=Name,Value=$name-gateway\n",
    "aws ec2 attach-internet-gateway --internet-gateway-id $internetGatewayId --vpc-id $vpcId\n",
    "\n",
    "export subnetId=$(aws ec2 create-subnet --vpc-id $vpcId --cidr-block 10.0.0.0/28 --query 'Subnet.SubnetId' --output text)\n",
    "# aws ec2 modify-subnet-attribute --subnet-id $subnetId --map-public-ip-on-launch // Public id needed?\n",
    "aws ec2 create-tags --resources $subnetId --tags --tags Key=Name,Value=$name-subnet\n",
    "\n",
    "export routeTableId=$(aws ec2 create-route-table --vpc-id $vpcId --query 'RouteTable.RouteTableId' --output text)\n",
    "aws ec2 create-tags --resources $routeTableId --tags --tags Key=Name,Value=$name-route-table\n",
    "export routeTableAssoc=$(aws ec2 associate-route-table --route-table-id $routeTableId --subnet-id $subnetId --output text)\n",
    "aws ec2 create-route --route-table-id $routeTableId --destination-cidr-block 0.0.0.0/0 --gateway-id $internetGatewayId\n",
    "\n",
    "export securityGroupId=$(aws ec2 create-security-group --group-name $name-security-group --description $sgTag --vpc-id $vpcId --query 'GroupId' --output text)\n",
    "# ssh\n",
    "aws ec2 authorize-security-group-ingress --group-id $securityGroupId --protocol tcp --port 22 --cidr $cidr\n",
    "# jupyter notebook\n",
    "aws ec2 authorize-security-group-ingress --group-id $securityGroupId --protocol tcp --port 8888-8898 --cidr $cidr\n",
    "\n",
    "if [ ! -d ~/.ssh ]\n",
    "then\n",
    "\tmkdir ~/.ssh\n",
    "fi\n",
    "\n",
    "if [ ! -f ~/.ssh/aws-key-$name.pem ]\n",
    "then\n",
    "\taws ec2 create-key-pair --key-name aws-key-$name --query 'KeyMaterial' --output text > ~/.ssh/aws-key-$name.pem\n",
    "\tchmod 400 ~/.ssh/aws-key-$name.pem\n",
    "fi"
   ]
  }
 ],
 "metadata": {
  "kernelspec": {
   "display_name": "Python 3",
   "language": "python",
   "name": "python3"
  },
  "language_info": {
   "codemirror_mode": {
    "name": "ipython",
    "version": 3
   },
   "file_extension": ".py",
   "mimetype": "text/x-python",
   "name": "python",
   "nbconvert_exporter": "python",
   "pygments_lexer": "ipython3",
   "version": "3.6.3"
  }
 },
 "nbformat": 4,
 "nbformat_minor": 2
}
