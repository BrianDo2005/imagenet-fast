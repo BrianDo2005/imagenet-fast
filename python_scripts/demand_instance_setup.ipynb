{
 "cells": [
  {
   "cell_type": "code",
   "execution_count": 3,
   "metadata": {
    "collapsed": true
   },
   "outputs": [],
   "source": [
    "import argparse\n",
    "import boto3\n",
    "import os, sys, time\n",
    "from pathlib import Path"
   ]
  },
  {
   "cell_type": "code",
   "execution_count": 4,
   "metadata": {
    "collapsed": true
   },
   "outputs": [],
   "source": [
    "session = boto3.Session()"
   ]
  },
  {
   "cell_type": "code",
   "execution_count": 5,
   "metadata": {},
   "outputs": [],
   "source": [
    "ec2 = session.resource('ec2')\n",
    "name='fast-ai'"
   ]
  },
  {
   "cell_type": "code",
   "execution_count": 6,
   "metadata": {
    "collapsed": true
   },
   "outputs": [],
   "source": [
    "def get_vpc(name):\n",
    "    vpcs = list(ec2.vpcs.filter(Filters=[{'Name': 'tag-value', 'Values': [name]}]))\n",
    "    return vpcs[0] if vpcs else None"
   ]
  },
  {
   "cell_type": "code",
   "execution_count": 7,
   "metadata": {
    "collapsed": true
   },
   "outputs": [],
   "source": [
    "def get_vpc_ids(name):\n",
    "    vpc = get_vpc(name)\n",
    "    if vpc is None: return None\n",
    "    sg = list(vpc.security_groups.all())[0]\n",
    "    subnet = list(vpc.subnets.all())[0]\n",
    "    return vpc.id, sg.id, subnet.id"
   ]
  },
  {
   "cell_type": "code",
   "execution_count": 14,
   "metadata": {},
   "outputs": [],
   "source": [
    "vpc_id, sg_id, subnet_id = get_vpc_ids(name)"
   ]
  },
  {
   "cell_type": "code",
   "execution_count": 9,
   "metadata": {
    "collapsed": true
   },
   "outputs": [],
   "source": [
    "region2ami = {\n",
    "    'us-west-2': 'ami-8c4288f4',\n",
    "    'eu-west-1': 'ami-b93c9ec0',\n",
    "    'us-east-1': 'ami-c6ac1cbc'\n",
    "}"
   ]
  },
  {
   "cell_type": "code",
   "execution_count": 12,
   "metadata": {
    "collapsed": true
   },
   "outputs": [],
   "source": [
    "instance_type = 't2.nano'"
   ]
  },
  {
   "cell_type": "code",
   "execution_count": 13,
   "metadata": {
    "collapsed": true
   },
   "outputs": [],
   "source": [
    "ami = region2ami[session.region_name]"
   ]
  },
  {
   "cell_type": "code",
   "execution_count": 41,
   "metadata": {},
   "outputs": [],
   "source": [
    "def create_instance(name):\n",
    "    ami = region2ami[session.region_name]\n",
    "    vpc_id, sg_id, subnet_id = get_vpc_ids(name)\n",
    "    network_interfaces=[{\n",
    "    'DeviceIndex': 0,\n",
    "    'SubnetId': subnet_id,\n",
    "    'Groups': [sg_id],\n",
    "    'AssociatePublicIpAddress': True            \n",
    "    }]\n",
    "    block_device_mappings = [{ \n",
    "        'DeviceName': '/dev/sda1', \n",
    "        'Ebs': { \n",
    "            'VolumeSize': 128, \n",
    "            'VolumeType': 'gp2' \n",
    "        } \n",
    "    }]\n",
    "    instance = ec2.create_instances(ImageId=ami, InstanceType=instance_type, \n",
    "                     MinCount=1, MaxCount=1,\n",
    "                     KeyName=f'aws-key-{name}',\n",
    "                     BlockDeviceMappings=block_device_mappings,\n",
    "                     NetworkInterfaces=network_interfaces\n",
    "                    )[0]\n",
    "    instance.create_tags(Tags=[{'Key':'Name','Value':f'{name}-gpu-machine'}])\n",
    "    \n",
    "    print('Instance created...')\n",
    "    instance.wait_until_running()\n",
    "    print('Creating public IP address...')\n",
    "    ec2c = session.client('ec2')\n",
    "    alloc_addr = ec2c.allocate_address(Domain='vpc')\n",
    "    ec2c.associate_address(InstanceId=instance.id, AllocationId=alloc_addr['AllocationId'])\n",
    "    \n",
    "    print('Rebooting...')\n",
    "    instance.reboot()\n",
    "    instance.wait_until_running()\n",
    "    return instance"
   ]
  },
  {
   "cell_type": "code",
   "execution_count": null,
   "metadata": {
    "collapsed": true
   },
   "outputs": [],
   "source": []
  },
  {
   "cell_type": "code",
   "execution_count": 24,
   "metadata": {},
   "outputs": [],
   "source": [
    "network_interfaces=[{\n",
    "    'DeviceIndex': 0,\n",
    "    'SubnetId': subnet_id,\n",
    "    'Groups': [sg_id],\n",
    "    'AssociatePublicIpAddress': True            \n",
    "}]\n",
    "block_device_mappings = [{ \n",
    "    'DeviceName': '/dev/sda1', \n",
    "    'Ebs': { \n",
    "        'VolumeSize': 128, \n",
    "        'VolumeType': 'gp2' \n",
    "    } \n",
    "}]"
   ]
  },
  {
   "cell_type": "code",
   "execution_count": 25,
   "metadata": {},
   "outputs": [
    {
     "data": {
      "text/plain": [
       "[ec2.Instance(id='i-01ce7c7c9dc8f8a3d')]"
      ]
     },
     "execution_count": 25,
     "metadata": {},
     "output_type": "execute_result"
    }
   ],
   "source": [
    "ec2.create_instances(ImageId=ami, InstanceType=instance_type, \n",
    "                     MinCount=1, MaxCount=1,\n",
    "                     KeyName=f'aws-key-{name}',\n",
    "                     BlockDeviceMappings=block_device_mappings,\n",
    "                     NetworkInterfaces=network_interfaces\n",
    "                    )"
   ]
  },
  {
   "cell_type": "code",
   "execution_count": 26,
   "metadata": {
    "collapsed": true
   },
   "outputs": [],
   "source": [
    "instance = list(ec2.instances.all())[0]"
   ]
  },
  {
   "cell_type": "code",
   "execution_count": 27,
   "metadata": {},
   "outputs": [
    {
     "data": {
      "text/plain": [
       "[ec2.Tag(resource_id='i-01ce7c7c9dc8f8a3d', key='Name', value='fast-ai-gpu-machine')]"
      ]
     },
     "execution_count": 27,
     "metadata": {},
     "output_type": "execute_result"
    }
   ],
   "source": [
    "instance.create_tags(Tags=[{'Key':'Name','Value':f'{name}-gpu-machine'}])"
   ]
  },
  {
   "cell_type": "code",
   "execution_count": 28,
   "metadata": {
    "collapsed": true
   },
   "outputs": [],
   "source": [
    "vpc = instance.vpc"
   ]
  },
  {
   "cell_type": "code",
   "execution_count": 30,
   "metadata": {
    "collapsed": true
   },
   "outputs": [],
   "source": [
    "ec2c = session.client('ec2')\n"
   ]
  },
  {
   "cell_type": "code",
   "execution_count": 32,
   "metadata": {},
   "outputs": [],
   "source": [
    "alloc_addr = ec2c.allocate_address(Domain='vpc')"
   ]
  },
  {
   "cell_type": "code",
   "execution_count": 33,
   "metadata": {},
   "outputs": [
    {
     "data": {
      "text/plain": [
       "{'AllocationId': 'eipalloc-164bec2a',\n",
       " 'Domain': 'vpc',\n",
       " 'PublicIp': '52.43.199.214',\n",
       " 'ResponseMetadata': {'HTTPHeaders': {'content-type': 'text/xml;charset=UTF-8',\n",
       "   'date': 'Wed, 28 Mar 2018 20:26:17 GMT',\n",
       "   'server': 'AmazonEC2',\n",
       "   'transfer-encoding': 'chunked',\n",
       "   'vary': 'Accept-Encoding'},\n",
       "  'HTTPStatusCode': 200,\n",
       "  'RequestId': 'c75ca463-7769-482b-92b3-7c2d0d01f847',\n",
       "  'RetryAttempts': 0}}"
      ]
     },
     "execution_count": 33,
     "metadata": {},
     "output_type": "execute_result"
    }
   ],
   "source": [
    "alloc_addr"
   ]
  },
  {
   "cell_type": "code",
   "execution_count": null,
   "metadata": {
    "collapsed": true
   },
   "outputs": [],
   "source": []
  },
  {
   "cell_type": "code",
   "execution_count": 34,
   "metadata": {},
   "outputs": [
    {
     "data": {
      "text/plain": [
       "{'AssociationId': 'eipassoc-ae0eb352',\n",
       " 'ResponseMetadata': {'HTTPHeaders': {'content-type': 'text/xml;charset=UTF-8',\n",
       "   'date': 'Wed, 28 Mar 2018 20:28:29 GMT',\n",
       "   'server': 'AmazonEC2',\n",
       "   'transfer-encoding': 'chunked',\n",
       "   'vary': 'Accept-Encoding'},\n",
       "  'HTTPStatusCode': 200,\n",
       "  'RequestId': '8e6c2a8f-1e01-4d2f-bf3c-1257bd78140a',\n",
       "  'RetryAttempts': 0}}"
      ]
     },
     "execution_count": 34,
     "metadata": {},
     "output_type": "execute_result"
    }
   ],
   "source": [
    "ec2c.associate_address(InstanceId=instance.id, AllocationId=alloc_addr['AllocationId'])"
   ]
  },
  {
   "cell_type": "code",
   "execution_count": 35,
   "metadata": {
    "collapsed": true
   },
   "outputs": [],
   "source": [
    "instance.wait_until_running()"
   ]
  },
  {
   "cell_type": "code",
   "execution_count": 36,
   "metadata": {
    "collapsed": true
   },
   "outputs": [],
   "source": [
    "instance_url = instance.public_ip_address"
   ]
  },
  {
   "cell_type": "code",
   "execution_count": 37,
   "metadata": {},
   "outputs": [
    {
     "data": {
      "text/plain": [
       "'34.217.174.189'"
      ]
     },
     "execution_count": 37,
     "metadata": {},
     "output_type": "execute_result"
    }
   ],
   "source": [
    "instance_url"
   ]
  },
  {
   "cell_type": "code",
   "execution_count": 39,
   "metadata": {},
   "outputs": [
    {
     "data": {
      "text/plain": [
       "{'ResponseMetadata': {'HTTPHeaders': {'content-type': 'text/xml;charset=UTF-8',\n",
       "   'date': 'Wed, 28 Mar 2018 20:30:05 GMT',\n",
       "   'server': 'AmazonEC2',\n",
       "   'transfer-encoding': 'chunked',\n",
       "   'vary': 'Accept-Encoding'},\n",
       "  'HTTPStatusCode': 200,\n",
       "  'RequestId': 'f27d1320-a5cf-4994-8c4f-46e8dd94c02a',\n",
       "  'RetryAttempts': 0}}"
      ]
     },
     "execution_count": 39,
     "metadata": {},
     "output_type": "execute_result"
    }
   ],
   "source": [
    "instance.reboot()"
   ]
  },
  {
   "cell_type": "code",
   "execution_count": null,
   "metadata": {
    "collapsed": true
   },
   "outputs": [],
   "source": [
    "\n",
    "export instanceId=$(aws ec2 run-instances --image-id $ami --count 1 --instance-type $instanceType --key-name aws-key-$name --security-group-ids $securityGroupId --subnet-id $subnetId --associate-public-ip-address --block-device-mapping \"[ { \\\"DeviceName\\\": \\\"/dev/sda1\\\", \\\"Ebs\\\": { \\\"VolumeSize\\\": 128, \\\"VolumeType\\\": \\\"gp2\\\" } } ]\" --query 'Instances[0].InstanceId' --output text)\n",
    "aws ec2 create-tags --resources $instanceId --tags --tags Key=Name,Value=$name-gpu-machine\n",
    "export allocAddr=$(aws ec2 allocate-address --domain vpc --query 'AllocationId' --output text)\n",
    "\n",
    "echo Waiting for instance start...\n",
    "aws ec2 wait instance-running --instance-ids $instanceId\n",
    "sleep 10 # wait for ssh service to start running too\n",
    "export assocId=$(aws ec2 associate-address --instance-id $instanceId --allocation-id $allocAddr --query 'AssociationId' --output text)\n",
    "export instanceUrl=$(aws ec2 describe-instances --instance-ids $instanceId --query 'Reservations[0].Instances[0].PublicDnsName' --output text)\n",
    "#export ebsVolume=$(aws ec2 describe-instance-attribute --instance-id $instanceId --attribute  blockDeviceMapping  --query BlockDeviceMappings[0].Ebs.VolumeId --output text)\n",
    "\n",
    "# reboot instance, because I was getting \"Failed to initialize NVML: Driver/library version mismatch\"\n",
    "# error when running the nvidia-smi command\n",
    "# see also http://forums.fast.ai/t/no-cuda-capable-device-is-detected/168/13\n",
    "aws ec2 reboot-instances --instance-ids $instanceId"
   ]
  }
 ],
 "metadata": {
  "kernelspec": {
   "display_name": "Python 3",
   "language": "python",
   "name": "python3"
  },
  "language_info": {
   "codemirror_mode": {
    "name": "ipython",
    "version": 3
   },
   "file_extension": ".py",
   "mimetype": "text/x-python",
   "name": "python",
   "nbconvert_exporter": "python",
   "pygments_lexer": "ipython3",
   "version": "3.6.3"
  }
 },
 "nbformat": 4,
 "nbformat_minor": 2
}
