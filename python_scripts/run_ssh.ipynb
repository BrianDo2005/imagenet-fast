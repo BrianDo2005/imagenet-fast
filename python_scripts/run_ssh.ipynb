{
 "cells": [
  {
   "cell_type": "code",
   "execution_count": 1,
   "metadata": {
    "collapsed": true
   },
   "outputs": [],
   "source": [
    "%reload_ext autoreload\n",
    "%autoreload 2\n",
    "%matplotlib inline"
   ]
  },
  {
   "cell_type": "code",
   "execution_count": 2,
   "metadata": {
    "collapsed": true
   },
   "outputs": [],
   "source": [
    "from aws_setup import *"
   ]
  },
  {
   "cell_type": "code",
   "execution_count": 3,
   "metadata": {
    "collapsed": true
   },
   "outputs": [],
   "source": [
    "name='fast-ai'"
   ]
  },
  {
   "cell_type": "code",
   "execution_count": 7,
   "metadata": {
    "collapsed": true
   },
   "outputs": [],
   "source": []
  },
  {
   "cell_type": "code",
   "execution_count": 9,
   "metadata": {},
   "outputs": [],
   "source": [
    "instance = get_instance('fast-ai-gpu-machine')"
   ]
  },
  {
   "cell_type": "code",
   "execution_count": 10,
   "metadata": {
    "collapsed": true
   },
   "outputs": [],
   "source": [
    "import paramiko"
   ]
  },
  {
   "cell_type": "code",
   "execution_count": 16,
   "metadata": {},
   "outputs": [
    {
     "data": {
      "text/plain": [
       "PosixPath('/Users/andrewshaw')"
      ]
     },
     "execution_count": 16,
     "metadata": {},
     "output_type": "execute_result"
    }
   ],
   "source": [
    "Path.home()"
   ]
  },
  {
   "cell_type": "code",
   "execution_count": null,
   "metadata": {
    "collapsed": true
   },
   "outputs": [],
   "source": [
    "instance.public_ip_address"
   ]
  },
  {
   "cell_type": "code",
   "execution_count": 44,
   "metadata": {
    "collapsed": true
   },
   "outputs": [],
   "source": [
    "def connect_to_instance(instance, keypath=f'{Path.home()}/.ssh/aws-key-fast-ai.pem', username='ubuntu', timeout=10):\n",
    "    print('Connecting to SSH...')\n",
    "    \n",
    "    client = paramiko.SSHClient()\n",
    "    client.set_missing_host_key_policy(paramiko.AutoAddPolicy())\n",
    "    retries = 20\n",
    "    while retries > 0:\n",
    "        try:\n",
    "            client.connect(instance.public_ip_address, username=username, key_filename=keypath, timeout=timeout)\n",
    "            print('Connected!')\n",
    "            break\n",
    "        except Exception as e:\n",
    "            print(f'Exception: {e} Retrying...')\n",
    "            retries = retries - 1\n",
    "    return client\n"
   ]
  },
  {
   "cell_type": "code",
   "execution_count": 45,
   "metadata": {},
   "outputs": [
    {
     "name": "stdout",
     "output_type": "stream",
     "text": [
      "Connecting to SSH...\n",
      "Connected!\n"
     ]
    }
   ],
   "source": [
    "client = connect_to_instance(instance)"
   ]
  },
  {
   "cell_type": "code",
   "execution_count": 46,
   "metadata": {},
   "outputs": [
    {
     "name": "stdout",
     "output_type": "stream",
     "text": [
      "run_sync returned: total 20\r\n",
      "drwxrwxr-x 3 ubuntu ubuntu 4096 Nov  1 22:55 data\r\n",
      "drwxrwxr-x 2 ubuntu ubuntu 4096 Mar 29 05:55 efs-mount-point\r\n",
      "drwxrwxr-x 6 ubuntu ubuntu 4096 Nov  5 00:29 fastai\r\n",
      "drwxr-xr-x 2 root   root   4096 Mar 29 05:27 mount_point\r\n",
      "drwxrwxr-x 6 ubuntu ubuntu 4096 Nov  2 16:17 src\r\n",
      "\n"
     ]
    }
   ],
   "source": [
    "stdin, stdout, stderr = client.exec_command('ls -l', get_pty=True)\n",
    "for input in []:\n",
    "    stdin.write('mypassword\\n')\n",
    "stdout_str = stdout.read().decode('ascii')\n",
    "stderr_str = stderr.read().decode('ascii')\n",
    "print(\"run_sync returned: \" + stdout_str)"
   ]
  },
  {
   "cell_type": "code",
   "execution_count": 60,
   "metadata": {
    "collapsed": true
   },
   "outputs": [],
   "source": [
    "def run_command(client, cmd, inputs=[]):\n",
    "    stdin, stdout, stderr = client.exec_command('ls -l', get_pty=True)\n",
    "    for inp in inputs:\n",
    "        # example = 'mypassword\\n'\n",
    "        stdin.write(inp)\n",
    "    stdout_str = stdout.read().decode('ascii')\n",
    "    stderr_str = stderr.read().decode('ascii')\n",
    "    \n",
    "#     print(\"run_sync returned: \" + stdout_str)\n",
    "    return stdout_str, stderr_str"
   ]
  },
  {
   "cell_type": "code",
   "execution_count": 61,
   "metadata": {},
   "outputs": [],
   "source": [
    "def upload_file(client, localpath, remotepath):\n",
    "#     file = f'{Path.home()}/Projects/ML/fastai/fastai_imagenet/testfile.txt'\n",
    "    ftp_client=client.open_sftp()\n",
    "    ftp_client.put(localpath, remotepath)\n",
    "    ftp_client.close()"
   ]
  },
  {
   "cell_type": "code",
   "execution_count": 64,
   "metadata": {},
   "outputs": [
    {
     "name": "stdout",
     "output_type": "stream",
     "text": [
      "run_sync returned: total 24\r\n",
      "drwxrwxr-x 3 ubuntu ubuntu 4096 Nov  1 22:55 data\r\n",
      "drwxrwxr-x 2 ubuntu ubuntu 4096 Mar 29 05:55 efs-mount-point\r\n",
      "drwxrwxr-x 6 ubuntu ubuntu 4096 Nov  5 00:29 fastai\r\n",
      "drwxr-xr-x 2 root   root   4096 Mar 29 05:27 mount_point\r\n",
      "drwxrwxr-x 6 ubuntu ubuntu 4096 Nov  2 16:17 src\r\n",
      "-rw-rw-r-- 1 ubuntu ubuntu    9 Mar 29 08:08 testfile.txt\r\n",
      "\n"
     ]
    }
   ],
   "source": [
    "out, _ = run_command(client, 'lsblk'); \n",
    "print(\"run_sync returned: \" + out)"
   ]
  },
  {
   "cell_type": "code",
   "execution_count": 47,
   "metadata": {},
   "outputs": [
    {
     "data": {
      "text/plain": [
       "(<paramiko.ChannelFile from <paramiko.Channel 1 (open) window=2097152 -> <paramiko.Transport at 0x16af4da0 (cipher aes128-ctr, 128 bits) (active; 1 open channel(s))>>>,\n",
       " <paramiko.ChannelFile from <paramiko.Channel 1 (open) window=2097152 -> <paramiko.Transport at 0x16af4da0 (cipher aes128-ctr, 128 bits) (active; 1 open channel(s))>>>,\n",
       " <paramiko.ChannelFile from <paramiko.Channel 1 (open) window=2097152 -> <paramiko.Transport at 0x16af4da0 (cipher aes128-ctr, 128 bits) (active; 1 open channel(s))>>>)"
      ]
     },
     "execution_count": 47,
     "metadata": {},
     "output_type": "execute_result"
    }
   ],
   "source": [
    "client.exec_command('lsblk')"
   ]
  },
  {
   "cell_type": "code",
   "execution_count": null,
   "metadata": {
    "collapsed": true
   },
   "outputs": [],
   "source": []
  }
 ],
 "metadata": {
  "kernelspec": {
   "display_name": "Python 3",
   "language": "python",
   "name": "python3"
  },
  "language_info": {
   "codemirror_mode": {
    "name": "ipython",
    "version": 3
   },
   "file_extension": ".py",
   "mimetype": "text/x-python",
   "name": "python",
   "nbconvert_exporter": "python",
   "pygments_lexer": "ipython3",
   "version": "3.6.3"
  }
 },
 "nbformat": 4,
 "nbformat_minor": 2
}
