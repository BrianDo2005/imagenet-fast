{
 "cells": [
  {
   "cell_type": "markdown",
   "metadata": {},
   "source": [
    "### Notebook for creating spot instances"
   ]
  },
  {
   "cell_type": "code",
   "execution_count": null,
   "metadata": {
    "collapsed": true
   },
   "outputs": [],
   "source": [
    "%reload_ext autoreload\n",
    "%autoreload 2\n",
    "%matplotlib inline"
   ]
  },
  {
   "cell_type": "code",
   "execution_count": 36,
   "metadata": {},
   "outputs": [],
   "source": [
    "from aws_setup import *"
   ]
  },
  {
   "cell_type": "code",
   "execution_count": 9,
   "metadata": {
    "collapsed": true
   },
   "outputs": [],
   "source": [
    "name='fast-ai'"
   ]
  },
  {
   "cell_type": "code",
   "execution_count": 24,
   "metadata": {
    "collapsed": true
   },
   "outputs": [],
   "source": [
    "def allocate_vpc_addr(instance_id):\n",
    "    ec2c = session.client('ec2')\n",
    "#     alloc_addr = ec2c.allocate_address(Domain='vpc')\n",
    "    alloc_addr = ec2c.describe_addresses()['Addresses'][0]\n",
    "    addr_id = alloc_addr['AllocationId']\n",
    "#     ec2c.associate_address(InstanceId=instance_id, AllocationId=addr_id)\n",
    "    return alloc_addr"
   ]
  },
  {
   "cell_type": "code",
   "execution_count": 25,
   "metadata": {},
   "outputs": [],
   "source": [
    "\n",
    "addr = allocate_vpc_addr('sdf')"
   ]
  },
  {
   "cell_type": "code",
   "execution_count": 4,
   "metadata": {
    "collapsed": true
   },
   "outputs": [],
   "source": [
    "ec2c = session.client('ec2')\n",
    "# alloc_addr = ec2c.allocate_address(Domain='vpc')\n",
    "# ec2c.associate_address(InstanceId=instance.id, AllocationId=alloc_addr['AllocationId'])"
   ]
  },
  {
   "cell_type": "code",
   "execution_count": 15,
   "metadata": {},
   "outputs": [
    {
     "data": {
      "text/plain": [
       "{'AllocationId': 'eipalloc-164bec2a',\n",
       " 'Domain': 'vpc',\n",
       " 'PublicIp': '52.43.199.214'}"
      ]
     },
     "execution_count": 15,
     "metadata": {},
     "output_type": "execute_result"
    }
   ],
   "source": [
    "ec2c.describe_addresses()['Addresses'][0]"
   ]
  },
  {
   "cell_type": "code",
   "execution_count": 6,
   "metadata": {},
   "outputs": [],
   "source": [
    "alloc_id = ec2c.describe_addresses()['Addresses'][0]['AllocationId']"
   ]
  },
  {
   "cell_type": "code",
   "execution_count": 10,
   "metadata": {},
   "outputs": [],
   "source": [
    "vpc_id, sg_id, subnet_id = get_vpc_ids(name)"
   ]
  },
  {
   "cell_type": "code",
   "execution_count": null,
   "metadata": {
    "collapsed": true
   },
   "outputs": [],
   "source": [
    "ec2.create_instances()"
   ]
  },
  {
   "cell_type": "code",
   "execution_count": null,
   "metadata": {
    "collapsed": true
   },
   "outputs": [],
   "source": [
    "def create_spot_instance(instance_type='t2.micro'):\n",
    "    network_interface = ec2.create_network_interface(SubnetId=subnet_id, Groups=[sg_id])\n",
    "    launch_specification = {\n",
    "        'ImageId': ami, \n",
    "        'InstanceType': instance_type, \n",
    "        'KeyName': f'aws-key-{name}',\n",
    "        'NetworkInterfaces': [{\n",
    "            'DeviceIndex': 0, \n",
    "            'NetworkInterfaceId': network_interface.id\n",
    "        }],\n",
    "        'BlockDeviceMappings': [{\n",
    "            'DeviceName': '/dev/sda1', \n",
    "            'Ebs': {\n",
    "                # Volume size must be greater than snapshot size of 80\n",
    "                'VolumeSize': 120, \n",
    "                'DeleteOnTermination': False,\n",
    "    #             'DeleteOnTermination': True\n",
    "\n",
    "                # SSD - use this to save money\n",
    "    #             'VolumeType': 'gp2',\n",
    "\n",
    "                # SSD io1 - superfast\n",
    "                'VolumeType': 'io1',\n",
    "                'Iops': 1\n",
    "            }\n",
    "        }]\n",
    "    }\n",
    "    spot_requests = ec2c.request_spot_instances(SpotPrice='0.5', LaunchSpecification=launch_specification)\n",
    "    spot_request = spot_requests['SpotInstanceRequests'][0]\n",
    "    instance_id = wait_on_fullfillment(spot_request)\n",
    "    return instance_id"
   ]
  },
  {
   "cell_type": "code",
   "execution_count": 11,
   "metadata": {
    "collapsed": true
   },
   "outputs": [],
   "source": [
    "network_interface = ec2.create_network_interface(SubnetId=subnet_id, Groups=[sg_id])"
   ]
  },
  {
   "cell_type": "code",
   "execution_count": null,
   "metadata": {
    "collapsed": true
   },
   "outputs": [],
   "source": [
    "addr = allocate_vpc_addr(network_interface.id)"
   ]
  },
  {
   "cell_type": "code",
   "execution_count": 27,
   "metadata": {},
   "outputs": [],
   "source": [
    "public_ip = addr['PublicIp']"
   ]
  },
  {
   "cell_type": "code",
   "execution_count": 37,
   "metadata": {},
   "outputs": [],
   "source": [
    "ami = get_ami()"
   ]
  },
  {
   "cell_type": "code",
   "execution_count": 44,
   "metadata": {
    "collapsed": true
   },
   "outputs": [],
   "source": [
    "instance_type = 't2.micro'"
   ]
  },
  {
   "cell_type": "code",
   "execution_count": 52,
   "metadata": {},
   "outputs": [],
   "source": [
    "launch_specification = {\n",
    "    'ImageId': ami, \n",
    "    'InstanceType': instance_type, \n",
    "    'KeyName': f'aws-key-{name}',\n",
    "    'NetworkInterfaces': [{\n",
    "        'DeviceIndex': 0, \n",
    "        'NetworkInterfaceId': network_interface.id\n",
    "    }],\n",
    "    'BlockDeviceMappings': [{\n",
    "        'DeviceName': '/dev/sda1', \n",
    "        'Ebs': {\n",
    "            # Volume size must be greater than snapshot size of 80\n",
    "            'VolumeSize': 120, \n",
    "            'DeleteOnTermination': False,\n",
    "#             'DeleteOnTermination': True\n",
    "            \n",
    "            # SSD - use this to save money\n",
    "#             'VolumeType': 'gp2',\n",
    "            \n",
    "            # SSD io1 - superfast\n",
    "            'VolumeType': 'io1',\n",
    "            'Iops': 1\n",
    "        }\n",
    "    }]\n",
    "}"
   ]
  },
  {
   "cell_type": "code",
   "execution_count": 53,
   "metadata": {},
   "outputs": [
    {
     "data": {
      "text/plain": [
       "{'ResponseMetadata': {'HTTPHeaders': {'content-type': 'text/xml;charset=UTF-8',\n",
       "   'date': 'Wed, 28 Mar 2018 23:24:19 GMT',\n",
       "   'server': 'AmazonEC2',\n",
       "   'transfer-encoding': 'chunked',\n",
       "   'vary': 'Accept-Encoding'},\n",
       "  'HTTPStatusCode': 200,\n",
       "  'RequestId': '5160e461-004c-43aa-aee1-9e0dd9c55193',\n",
       "  'RetryAttempts': 0},\n",
       " 'SpotInstanceRequests': [{'CreateTime': datetime.datetime(2018, 3, 28, 23, 24, 19, tzinfo=tzutc()),\n",
       "   'InstanceInterruptionBehavior': 'terminate',\n",
       "   'LaunchSpecification': {'BlockDeviceMappings': [{'DeviceName': '/dev/sda1',\n",
       "      'Ebs': {'DeleteOnTermination': False,\n",
       "       'Iops': 1,\n",
       "       'VolumeSize': 120,\n",
       "       'VolumeType': 'io1'}}],\n",
       "    'ImageId': 'ami-8c4288f4',\n",
       "    'InstanceType': 't2.micro',\n",
       "    'KeyName': 'aws-key-fast-ai',\n",
       "    'Monitoring': {'Enabled': False},\n",
       "    'NetworkInterfaces': [{'DeviceIndex': 0,\n",
       "      'NetworkInterfaceId': 'eni-febadad9'}],\n",
       "    'Placement': {'AvailabilityZone': 'us-west-2b'},\n",
       "    'SecurityGroups': [{'GroupName': 'default'}]},\n",
       "   'ProductDescription': 'Linux/UNIX',\n",
       "   'SpotInstanceRequestId': 'sir-7mcrbnap',\n",
       "   'SpotPrice': '0.116000',\n",
       "   'State': 'open',\n",
       "   'Status': {'Code': 'pending-evaluation',\n",
       "    'Message': 'Your Spot request has been submitted for review, and is pending evaluation.',\n",
       "    'UpdateTime': datetime.datetime(2018, 3, 28, 23, 24, 19, tzinfo=tzutc())},\n",
       "   'Type': 'one-time'}]}"
      ]
     },
     "execution_count": 53,
     "metadata": {},
     "output_type": "execute_result"
    }
   ],
   "source": [
    "spot_requests = ec2c.request_spot_instances(SpotPrice='0.5', LaunchSpecification=launch_specification)"
   ]
  },
  {
   "cell_type": "code",
   "execution_count": 57,
   "metadata": {
    "collapsed": true
   },
   "outputs": [],
   "source": [
    "spot_request = spot_requests['SpotInstanceRequests'][0]"
   ]
  },
  {
   "cell_type": "code",
   "execution_count": 58,
   "metadata": {
    "collapsed": true
   },
   "outputs": [],
   "source": [
    "req_id = spot_request['SpotInstanceRequestId']"
   ]
  },
  {
   "cell_type": "code",
   "execution_count": 60,
   "metadata": {},
   "outputs": [
    {
     "data": {
      "text/plain": [
       "'sir-7mcrbnap'"
      ]
     },
     "execution_count": 60,
     "metadata": {},
     "output_type": "execute_result"
    }
   ],
   "source": [
    "req_id"
   ]
  },
  {
   "cell_type": "code",
   "execution_count": 68,
   "metadata": {
    "collapsed": true
   },
   "outputs": [],
   "source": [
    "def wait_on_fullfillment(req_status):\n",
    "    while req_status['State'] != 'closed':\n",
    "        print('Waiting on spot fullfillment...')\n",
    "        sleep(5)\n",
    "        req_statuses = ec2c.describe_spot_instance_requests(Filters=[{'Name': 'spot-instance-request-id', 'Values': [req_status['SpotInstanceRequestId']]}])\n",
    "        req_status = req_statuses['SpotInstanceRequests'][0]\n",
    "        if req_status['State'] == 'failed':\n",
    "            print('Spot instance request failed:', req_status['Status'])\n",
    "            return None\n",
    "    instance_id = req_status['InstanceId']\n",
    "    print('Fullfillment completed. InstanceId:', instance_id)\n",
    "    return instance_id\n",
    "    \n",
    "    "
   ]
  },
  {
   "cell_type": "code",
   "execution_count": 69,
   "metadata": {},
   "outputs": [],
   "source": [
    "req_statuses = ec2c.describe_spot_instance_requests(Filters=[{'Name': 'spot-instance-request-id', 'Values': ['sir-7mcrbnap']}])\n",
    "req = req_statuses['SpotInstanceRequests'][0]\n",
    "\n"
   ]
  },
  {
   "cell_type": "code",
   "execution_count": 72,
   "metadata": {},
   "outputs": [
    {
     "name": "stdout",
     "output_type": "stream",
     "text": [
      "Fullfillment completed. InstanceId: i-06bfb34e49cec49e1\n"
     ]
    }
   ],
   "source": [
    "instance_id = wait_on_fullfillment(req)"
   ]
  },
  {
   "cell_type": "code",
   "execution_count": 76,
   "metadata": {
    "collapsed": true
   },
   "outputs": [],
   "source": [
    "instance = list(ec2.instances.filter(Filters=[{'Name': 'instance-id', 'Values': [instance_id]}]).all())[0]"
   ]
  },
  {
   "cell_type": "code",
   "execution_count": 75,
   "metadata": {},
   "outputs": [
    {
     "data": {
      "text/plain": [
       "[ec2.Instance(id='i-06bfb34e49cec49e1')]"
      ]
     },
     "execution_count": 75,
     "metadata": {},
     "output_type": "execute_result"
    }
   ],
   "source": [
    "list(instance.all())"
   ]
  },
  {
   "cell_type": "code",
   "execution_count": 71,
   "metadata": {},
   "outputs": [
    {
     "data": {
      "text/plain": [
       "[ec2.Instance(id='i-06bfb34e49cec49e1')]"
      ]
     },
     "execution_count": 71,
     "metadata": {},
     "output_type": "execute_result"
    }
   ],
   "source": [
    "list(ec2.instances.all())"
   ]
  },
  {
   "cell_type": "code",
   "execution_count": 77,
   "metadata": {
    "collapsed": true
   },
   "outputs": [],
   "source": [
    "instance.public_ip_address"
   ]
  },
  {
   "cell_type": "code",
   "execution_count": 78,
   "metadata": {},
   "outputs": [
    {
     "data": {
      "text/plain": [
       "ec2.Instance(id='i-06bfb34e49cec49e1')"
      ]
     },
     "execution_count": 78,
     "metadata": {},
     "output_type": "execute_result"
    }
   ],
   "source": []
  },
  {
   "cell_type": "markdown",
   "metadata": {},
   "source": [
    "### Attach DFS"
   ]
  },
  {
   "cell_type": "markdown",
   "metadata": {},
   "source": [
    "### Adapting code shell"
   ]
  },
  {
   "cell_type": "code",
   "execution_count": null,
   "metadata": {
    "collapsed": true
   },
   "outputs": [],
   "source": [
    "\n",
    "export networkInterfaceId=`aws ec2 create-network-interface --subnet-id $subnetId --groups $securityGroupId --query 'NetworkInterface.NetworkInterfaceId' --output text`\n",
    "export allocAddr=`aws ec2 allocate-address --domain vpc --query 'AllocationId' --output text`\n",
    "export assocId=`aws ec2 associate-address --network-interface-id $networkInterfaceId --allocation-id $allocAddr --query 'AssociationId' --output text`\n",
    "export instancePublicIp=`aws ec2 describe-addresses --query 'Addresses[?AssociationId==\\`'$assocId'\\`][PublicIp]' --output text`\n",
    "\n",
    "export spotInstanceRequestId=`aws ec2 request-spot-instances --spot-price \"$2\" --launch-specification '{\"ImageId\": \"'$ami'\", \"InstanceType\": \"'$1'\", \"KeyName\": \"'aws-key-$name'\", \"NetworkInterfaces\": [{\"DeviceIndex\": 0, \"NetworkInterfaceId\": \"'$networkInterfaceId'\"}], \"BlockDeviceMappings\": [{\"DeviceName\": \"/dev/sda1\", \"Ebs\": {\"VolumeSize\": 20, \"VolumeType\": \"gp2\", \"DeleteOnTermination\": true}}]}' --query 'SpotInstanceRequests[0].[SpotInstanceRequestId]' --output text`\n"
   ]
  }
 ],
 "metadata": {
  "kernelspec": {
   "display_name": "Python 3",
   "language": "python",
   "name": "python3"
  },
  "language_info": {
   "codemirror_mode": {
    "name": "ipython",
    "version": 3
   },
   "file_extension": ".py",
   "mimetype": "text/x-python",
   "name": "python",
   "nbconvert_exporter": "python",
   "pygments_lexer": "ipython3",
   "version": "3.6.3"
  }
 },
 "nbformat": 4,
 "nbformat_minor": 2
}
