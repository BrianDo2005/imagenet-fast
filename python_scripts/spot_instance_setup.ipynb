{
 "cells": [
  {
   "cell_type": "code",
   "execution_count": 3,
   "metadata": {},
   "outputs": [],
   "source": [
    "from aws_setup import *"
   ]
  },
  {
   "cell_type": "code",
   "execution_count": null,
   "metadata": {
    "collapsed": true
   },
   "outputs": [],
   "source": [
    "def create_instance(name, instance_type='t2.nano'):\n",
    "    ami = region2ami[session.region_name]\n",
    "    vpc_id, sg_id, subnet_id = get_vpc_ids(name)\n",
    "    network_interfaces=[{\n",
    "    'DeviceIndex': 0,\n",
    "    'SubnetId': subnet_id,\n",
    "    'Groups': [sg_id],\n",
    "    'AssociatePublicIpAddress': True            \n",
    "    }]\n",
    "    block_device_mappings = [{ \n",
    "        'DeviceName': '/dev/sda1', \n",
    "        'Ebs': { \n",
    "            'VolumeSize': 128, \n",
    "            'VolumeType': 'gp2' \n",
    "        } \n",
    "    }]\n",
    "    instance = ec2.create_instances(ImageId=ami, InstanceType=instance_type, \n",
    "                     MinCount=1, MaxCount=1,\n",
    "                     KeyName=f'aws-key-{name}',\n",
    "                     BlockDeviceMappings=block_device_mappings,\n",
    "                     NetworkInterfaces=network_interfaces\n",
    "                    )[0]\n",
    "    instance.create_tags(Tags=[{'Key':'Name','Value':f'{name}-gpu-machine'}])\n",
    "    \n",
    "    print('Instance created...')\n",
    "    instance.wait_until_running()\n",
    "    print('Creating public IP address...')\n",
    "    ec2c = session.client('ec2')\n",
    "    alloc_addr = ec2c.allocate_address(Domain='vpc')\n",
    "    ec2c.associate_address(InstanceId=instance.id, AllocationId=alloc_addr['AllocationId'])\n",
    "    \n",
    "    print('Rebooting...')\n",
    "    instance.reboot()\n",
    "    instance.wait_until_running()\n",
    "    return instance"
   ]
  },
  {
   "cell_type": "code",
   "execution_count": 9,
   "metadata": {
    "collapsed": true
   },
   "outputs": [],
   "source": [
    "name='fast-ai'"
   ]
  },
  {
   "cell_type": "code",
   "execution_count": 24,
   "metadata": {
    "collapsed": true
   },
   "outputs": [],
   "source": [
    "def allocate_vpc_addr(instance_id):\n",
    "    ec2c = session.client('ec2')\n",
    "#     alloc_addr = ec2c.allocate_address(Domain='vpc')\n",
    "    alloc_addr = ec2c.describe_addresses()['Addresses'][0]\n",
    "    addr_id = alloc_addr['AllocationId']\n",
    "#     ec2c.associate_address(InstanceId=instance_id, AllocationId=addr_id)\n",
    "    return alloc_addr"
   ]
  },
  {
   "cell_type": "code",
   "execution_count": 25,
   "metadata": {},
   "outputs": [],
   "source": [
    "\n",
    "addr = allocate_vpc_addr('sdf')"
   ]
  },
  {
   "cell_type": "code",
   "execution_count": 4,
   "metadata": {
    "collapsed": true
   },
   "outputs": [],
   "source": [
    "ec2c = session.client('ec2')\n",
    "# alloc_addr = ec2c.allocate_address(Domain='vpc')\n",
    "# ec2c.associate_address(InstanceId=instance.id, AllocationId=alloc_addr['AllocationId'])"
   ]
  },
  {
   "cell_type": "code",
   "execution_count": 15,
   "metadata": {},
   "outputs": [
    {
     "data": {
      "text/plain": [
       "{'AllocationId': 'eipalloc-164bec2a',\n",
       " 'Domain': 'vpc',\n",
       " 'PublicIp': '52.43.199.214'}"
      ]
     },
     "execution_count": 15,
     "metadata": {},
     "output_type": "execute_result"
    }
   ],
   "source": [
    "ec2c.describe_addresses()['Addresses'][0]"
   ]
  },
  {
   "cell_type": "code",
   "execution_count": 6,
   "metadata": {},
   "outputs": [],
   "source": [
    "alloc_id = ec2c.describe_addresses()['Addresses'][0]['AllocationId']"
   ]
  },
  {
   "cell_type": "code",
   "execution_count": 10,
   "metadata": {},
   "outputs": [],
   "source": [
    "vpc_id, sg_id, subnet_id = get_vpc_ids(name)"
   ]
  },
  {
   "cell_type": "code",
   "execution_count": 11,
   "metadata": {
    "collapsed": true
   },
   "outputs": [],
   "source": [
    "network_interface = ec2.create_network_interface(SubnetId=subnet_id, Groups=[sg_id])"
   ]
  },
  {
   "cell_type": "code",
   "execution_count": null,
   "metadata": {
    "collapsed": true
   },
   "outputs": [],
   "source": [
    "addr = allocate_vpc_addr(network_interface.id)"
   ]
  },
  {
   "cell_type": "code",
   "execution_count": 27,
   "metadata": {},
   "outputs": [],
   "source": [
    "public_ip = addr['PublicIp']"
   ]
  },
  {
   "cell_type": "code",
   "execution_count": null,
   "metadata": {
    "collapsed": true
   },
   "outputs": [],
   "source": [
    "ec2c.request_spot_instances(SpotPrice)"
   ]
  },
  {
   "cell_type": "markdown",
   "metadata": {},
   "source": [
    "### Adapting code shell"
   ]
  },
  {
   "cell_type": "code",
   "execution_count": null,
   "metadata": {
    "collapsed": true
   },
   "outputs": [],
   "source": [
    "\n",
    "export networkInterfaceId=`aws ec2 create-network-interface --subnet-id $subnetId --groups $securityGroupId --query 'NetworkInterface.NetworkInterfaceId' --output text`\n",
    "export allocAddr=`aws ec2 allocate-address --domain vpc --query 'AllocationId' --output text`\n",
    "export assocId=`aws ec2 associate-address --network-interface-id $networkInterfaceId --allocation-id $allocAddr --query 'AssociationId' --output text`\n",
    "export instancePublicIp=`aws ec2 describe-addresses --query 'Addresses[?AssociationId==\\`'$assocId'\\`][PublicIp]' --output text`\n",
    "\n",
    "export spotInstanceRequestId=`aws ec2 request-spot-instances --spot-price \"$2\" --launch-specification '{\"ImageId\": \"'$ami'\", \"InstanceType\": \"'$1'\", \"KeyName\": \"'aws-key-$name'\", \"NetworkInterfaces\": [{\"DeviceIndex\": 0, \"NetworkInterfaceId\": \"'$networkInterfaceId'\"}], \"BlockDeviceMappings\": [{\"DeviceName\": \"/dev/sda1\", \"Ebs\": {\"VolumeSize\": 20, \"VolumeType\": \"gp2\", \"DeleteOnTermination\": true}}]}' --query 'SpotInstanceRequests[0].[SpotInstanceRequestId]' --output text`\n"
   ]
  }
 ],
 "metadata": {
  "kernelspec": {
   "display_name": "Python 3",
   "language": "python",
   "name": "python3"
  },
  "language_info": {
   "codemirror_mode": {
    "name": "ipython",
    "version": 3
   },
   "file_extension": ".py",
   "mimetype": "text/x-python",
   "name": "python",
   "nbconvert_exporter": "python",
   "pygments_lexer": "ipython3",
   "version": "3.6.3"
  }
 },
 "nbformat": 4,
 "nbformat_minor": 2
}
